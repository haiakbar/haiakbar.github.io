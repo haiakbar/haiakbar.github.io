{
 "cells": [
  {
   "cell_type": "code",
   "execution_count": null,
   "metadata": {},
   "outputs": [],
   "source": [
    "def safe-open(filename, 'r'):\n",
    "    try:\n",
    "        inline = open(filename, 'r')\n",
    "        return inline\n",
    "    except:\n",
    "        return None"
   ]
  },
  {
   "cell_type": "code",
   "execution_count": 3,
   "metadata": {},
   "outputs": [
    {
     "name": "stdout",
     "output_type": "stream",
     "text": [
      "start f\n",
      "start g\n",
      "start h\n",
      "Ouch\n",
      "1\n",
      "2\n"
     ]
    }
   ],
   "source": [
    "def h(n):\n",
    "    print('start h')\n",
    "    try:\n",
    "        print(1/n)\n",
    "    except:\n",
    "        print('Ouch')\n",
    "def g(n):\n",
    "    try:\n",
    "        print('start g')\n",
    "        h(n-1)\n",
    "        print(n)\n",
    "    except:\n",
    "        print('argh')\n",
    "\n",
    "def f(n):\n",
    "    print('start f')\n",
    "    try:\n",
    "        g(n-1)\n",
    "    except:\n",
    "        print('aw')\n",
    "    print(n)\n",
    "    \n",
    "f(2)"
   ]
  },
  {
   "cell_type": "code",
   "execution_count": 10,
   "metadata": {
    "scrolled": true
   },
   "outputs": [
    {
     "data": {
      "text/plain": [
       "['/home/barcode/Documents/Belajar Python/Kode Belajar',\n",
       " '/home/barcode/anaconda3/lib/python38.zip',\n",
       " '/home/barcode/anaconda3/lib/python3.8',\n",
       " '/home/barcode/anaconda3/lib/python3.8/lib-dynload',\n",
       " '',\n",
       " '/home/barcode/anaconda3/lib/python3.8/site-packages',\n",
       " '/home/barcode/anaconda3/lib/python3.8/site-packages/IPython/extensions',\n",
       " '/home/barcode/.ipython']"
      ]
     },
     "execution_count": 10,
     "metadata": {},
     "output_type": "execute_result"
    }
   ],
   "source": [
    "import sys\n",
    "import random\n",
    "sys.path"
   ]
  },
  {
   "cell_type": "raw",
   "metadata": {},
   "source": []
  },
  {
   "cell_type": "code",
   "execution_count": 6,
   "metadata": {},
   "outputs": [
    {
     "data": {
      "text/plain": [
       "['__call__',\n",
       " '__class__',\n",
       " '__delattr__',\n",
       " '__dir__',\n",
       " '__doc__',\n",
       " '__eq__',\n",
       " '__format__',\n",
       " '__ge__',\n",
       " '__get__',\n",
       " '__getattribute__',\n",
       " '__gt__',\n",
       " '__hash__',\n",
       " '__init__',\n",
       " '__init_subclass__',\n",
       " '__le__',\n",
       " '__lt__',\n",
       " '__name__',\n",
       " '__ne__',\n",
       " '__new__',\n",
       " '__objclass__',\n",
       " '__qualname__',\n",
       " '__reduce__',\n",
       " '__reduce_ex__',\n",
       " '__repr__',\n",
       " '__setattr__',\n",
       " '__sizeof__',\n",
       " '__str__',\n",
       " '__subclasshook__',\n",
       " '__text_signature__']"
      ]
     },
     "execution_count": 6,
     "metadata": {},
     "output_type": "execute_result"
    }
   ],
   "source": [
    "lst = [2,3,4,5]\n",
    "dir(list.insert)"
   ]
  },
  {
   "cell_type": "code",
   "execution_count": 7,
   "metadata": {},
   "outputs": [
    {
     "name": "stdout",
     "output_type": "stream",
     "text": [
      "File rven.txt not found\n"
     ]
    }
   ],
   "source": [
    "def index(filename, list):\n",
    "    try:\n",
    "        infile = open(filename, 'r')\n",
    "        content = infile.read()\n",
    "        infile.close()\n",
    "    except:\n",
    "        print('File {} not found'.format(filename))\n",
    "\n",
    "index('rven.txt', ['raven', 'mortal'])"
   ]
  },
  {
   "cell_type": "code",
   "execution_count": 9,
   "metadata": {},
   "outputs": [
    {
     "name": "stdout",
     "output_type": "stream",
     "text": [
      "5 + 0\n",
      "Enter answer: five\n",
      "Write your answer using digit 0 through 9. Try again!\n",
      "Enter answer: 5\n",
      "correct!\n",
      "1 + 9\n",
      "Enter answer: 10\n",
      "correct!\n",
      "7 + 0\n",
      "Enter answer: 7\n",
      "correct!\n",
      "5 + 7\n",
      "Enter answer: 12\n",
      "correct!\n",
      "7 + 5\n",
      "Enter answer: 12\n",
      "correct!\n",
      "You got 5 correct answers out of 5\n"
     ]
    }
   ],
   "source": [
    "import random\n",
    "def game(n):\n",
    "    num = (0,1,2,3,4,5,6,7,8,9)\n",
    "    correct = 0\n",
    "    for i in range(n):\n",
    "        first = random.choice(num)\n",
    "        second = random.choice(num)\n",
    "        print(str(first)+' + '+str(second))\n",
    "        try: \n",
    "            ans = int(input('Enter answer: '))\n",
    "        except ValueError:\n",
    "            print('Write your answer using digit 0 through 9. Try again!')\n",
    "            ans = int(input('Enter answer: '))\n",
    "            \n",
    "        if first + second == ans:\n",
    "            print('correct!')\n",
    "            correct += 1\n",
    "        else:\n",
    "            print('incorrect!')\n",
    "    string = 'You got {} correct answers out of {}'.format(correct,n)\n",
    "    print(string)\n",
    "game(5)"
   ]
  },
  {
   "cell_type": "code",
   "execution_count": 14,
   "metadata": {},
   "outputs": [
    {
     "name": "stdout",
     "output_type": "stream",
     "text": [
      "Please enter a number: 2\n",
      "Please enter a number: 3.2\n",
      "Please enter a number: 5.2\n",
      "Please enter a number: 1\n",
      "Please enter a number: 1.9\n",
      "Please enter a number: .\n",
      "Error. Please re-enter value\n",
      "Please enter a number: 3\n",
      "Please enter a number: 0\n"
     ]
    },
    {
     "data": {
      "text/plain": [
       "18.200000000000003"
      ]
     },
     "execution_count": 14,
     "metadata": {},
     "output_type": "execute_result"
    }
   ],
   "source": [
    "def inValues():\n",
    "    numbers = []\n",
    "    failCounter = 0\n",
    "    while True:\n",
    "        try:\n",
    "            flt = float(input('Please enter a number: '))\n",
    "            failCounter = 0\n",
    "        except ValueError:\n",
    "            print('Error. Please re-enter value')\n",
    "            failCounter += 1\n",
    "        \n",
    "        if flt == 0.0:\n",
    "            return sum(numbers)\n",
    "        elif failCounter == 2:\n",
    "            return 'Two errors in a row. Quitting ...'\n",
    "        else:\n",
    "            numbers.append(flt)\n",
    "\n",
    "inValues()"
   ]
  },
  {
   "cell_type": "code",
   "execution_count": 16,
   "metadata": {},
   "outputs": [
    {
     "name": "stdout",
     "output_type": "stream",
     "text": [
      "None\n"
     ]
    }
   ],
   "source": [
    "def safe_input():\n",
    "    try:\n",
    "        x = input('Input: ')\n",
    "    except KeyboardInterrupt:\n",
    "        x = None\n",
    "    print(x)\n",
    "safe_input()"
   ]
  }
 ],
 "metadata": {
  "kernelspec": {
   "display_name": "Python 3",
   "language": "python",
   "name": "python3"
  },
  "language_info": {
   "codemirror_mode": {
    "name": "ipython",
    "version": 3
   },
   "file_extension": ".py",
   "mimetype": "text/x-python",
   "name": "python",
   "nbconvert_exporter": "python",
   "pygments_lexer": "ipython3",
   "version": "3.8.3"
  }
 },
 "nbformat": 4,
 "nbformat_minor": 4
}
