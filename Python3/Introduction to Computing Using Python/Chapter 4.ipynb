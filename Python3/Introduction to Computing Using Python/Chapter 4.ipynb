{
 "cells": [
  {
   "cell_type": "code",
   "execution_count": 2,
   "metadata": {},
   "outputs": [
    {
     "name": "stdout",
     "output_type": "stream",
     "text": [
      "234\n",
      "78\n",
      "1234567\n",
      "0123\n",
      "789\n"
     ]
    }
   ],
   "source": [
    "s = '0123456789'\n",
    "print(s[2:5])\n",
    "print(s[7:9])\n",
    "print(s[1:8])\n",
    "print(s[0:4])\n",
    "print(s[7:])"
   ]
  },
  {
   "cell_type": "code",
   "execution_count": 6,
   "metadata": {},
   "outputs": [
    {
     "name": "stdout",
     "output_type": "stream",
     "text": [
      "2\n",
      "13\n",
      "It will be a cloudy day today\n"
     ]
    }
   ],
   "source": [
    "s = 'It will be a sunny day today'\n",
    "print(s.count('day'))\n",
    "print(s.find('sunny'))\n",
    "new_forecast = s.replace('sunny', 'cloudy')\n",
    "print(new_forecast)"
   ]
  },
  {
   "cell_type": "code",
   "execution_count": 9,
   "metadata": {},
   "outputs": [
    {
     "name": "stdout",
     "output_type": "stream",
     "text": [
      "Smith\tJohn\tPaul\n"
     ]
    }
   ],
   "source": [
    "last = 'Smith'\n",
    "first = 'John'\n",
    "middle = 'Paul'\n",
    "print(last, first, middle, sep='\\t')"
   ]
  },
  {
   "cell_type": "code",
   "execution_count": 12,
   "metadata": {},
   "outputs": [
    {
     "name": "stdout",
     "output_type": "stream",
     "text": [
      "Please enter upper number: 17\n",
      "2, 3, 4, 6, 8, 9, 10, 12, 14, 15, 16, "
     ]
    }
   ],
   "source": [
    "n = eval(input('Please enter upper number: '))\n",
    "def even(n):\n",
    "    numbers = []\n",
    "    for i in range(2,n+1):\n",
    "        if i%2 == 0 or i%3 == 0:\n",
    "            numbers.append(i)\n",
    "    for num in numbers:\n",
    "        print(num, end=', ')\n",
    "even(n)"
   ]
  },
  {
   "cell_type": "code",
   "execution_count": 17,
   "metadata": {},
   "outputs": [
    {
     "name": "stdout",
     "output_type": "stream",
     "text": [
      "John Doe\n",
      "123 Main Street\n",
      "AnyCity, AS 09876\n",
      "John Doe \n",
      "123 Main Street \n",
      "AnyCity, AS 09876\n"
     ]
    }
   ],
   "source": [
    "first = 'John'\n",
    "last = 'Doe'\n",
    "street = 'Main Street'\n",
    "number = 123\n",
    "city = 'AnyCity'\n",
    "state = 'AS'\n",
    "zipcode = '09876'\n",
    "first_line = '{} {}'.format(first, last)\n",
    "second_line = '{} {}'.format(number, street)\n",
    "third_line = '{}, {} {}'.format(city, state, zipcode)\n",
    "print(first_line, second_line, third_line, sep='\\n')\n",
    "full_line = '{} {} \\n{} {} \\n{}, {} {}'.format(first, last, number, street, city, state, zipcode)\n",
    "print(full_line)"
   ]
  },
  {
   "cell_type": "code",
   "execution_count": 1,
   "metadata": {},
   "outputs": [
    {
     "name": "stdout",
     "output_type": "stream",
     "text": [
      "Last      First     Class     Average Grade\n",
      "DeMoines  Jim       Sophomore     3.45\n",
      "Pierre    Sophie    Sophomore      4.0\n",
      "Columbus  Maria     Senior         2.5\n",
      "Phoenix   River     Junior        2.45\n",
      "Olympia   Edgar     Junior        3.99\n"
     ]
    }
   ],
   "source": [
    "students = []\n",
    "students.append(['DeMoines', 'Jim', 'Sophomore', 3.45])\n",
    "students.append(['Pierre', 'Sophie', 'Sophomore', 4.0])\n",
    "students.append(['Columbus', 'Maria', 'Senior', 2.5])\n",
    "students.append(['Phoenix', 'River', 'Junior', 2.45])\n",
    "students.append(['Olympia', 'Edgar', 'Junior', 3.99])\n",
    "def roster(lst):\n",
    "    tableFormat = '{:10}{:10}{:10}{:8}'\n",
    "    tableHeader = tableFormat.format('Last', 'First', 'Class', 'Average Grade')\n",
    "    print(tableHeader)\n",
    "    for row in lst:\n",
    "        tableContent = tableFormat.format(row[0], row[1], row[2], row[3])\n",
    "        print(tableContent)\n",
    "roster(students)"
   ]
  },
  {
   "cell_type": "code",
   "execution_count": 6,
   "metadata": {},
   "outputs": [
    {
     "data": {
      "text/plain": [
       "'I will meet you on Fri July 14 at 09:40 AM'"
      ]
     },
     "execution_count": 6,
     "metadata": {},
     "output_type": "execute_result"
    }
   ],
   "source": [
    "import time\n",
    "t = time.localtime(1500000000)\n",
    "time.strftime('%A, %B %d %Y', t)\n",
    "time.strftime('%I:%M %Z on 07/%d/Y', t)\n",
    "time.strftime('I will meet you on %a %B %d at %I:%M %p',  t)"
   ]
  },
  {
   "cell_type": "code",
   "execution_count": 8,
   "metadata": {},
   "outputs": [
    {
     "data": {
      "text/plain": [
       "9"
      ]
     },
     "execution_count": 8,
     "metadata": {},
     "output_type": "execute_result"
    }
   ],
   "source": [
    "def stringCount(filename, target):\n",
    "    infile = open(filename, 'r')\n",
    "    content = infile.read()\n",
    "    infile.close()\n",
    "    \n",
    "    return content.count(target)\n",
    "\n",
    "filename = 'example.txt'\n",
    "target = 'line'\n",
    "stringCount(filename, target)"
   ]
  },
  {
   "cell_type": "code",
   "execution_count": 4,
   "metadata": {},
   "outputs": [
    {
     "name": "stdout",
     "output_type": "stream",
     "text": [
      "['line', 'line', 'line', 'line', 'line', 'line', 'line', 'line', 'line', 'lain', 'lain', 'lain', 'lain', 'aslkdjasdj', 'hehe']\n"
     ]
    }
   ],
   "source": [
    "def words(filename):\n",
    "    deleter = str.maketrans('!,.:;?', 6*' ')\n",
    "    infile = open(filename, 'r')\n",
    "    content = infile.read()\n",
    "    infile.close()\n",
    "    cleaned_content = content.translate(deleter)\n",
    "    print(cleaned_content.split())\n",
    "words('example.txt')"
   ]
  },
  {
   "cell_type": "code",
   "execution_count": 10,
   "metadata": {},
   "outputs": [
    {
     "name": "stdout",
     "output_type": "stream",
     "text": [
      "line. line? line; line, line! line? line line line\n",
      "The 3 lines in this file end with the new line character.\n",
      "There is a blank line above this line.\n"
     ]
    }
   ],
   "source": [
    "filename = 'example.txt'\n",
    "wordtarget = 'line'\n",
    "def myGrep(filename, wordtarget):\n",
    "    infile = open(filename, 'r')\n",
    "    lineList = infile.readlines()\n",
    "    infile.close()\n",
    "    for line in lineList:\n",
    "        if wordtarget in line:\n",
    "            print(line, end='')\n",
    "myGrep(filename, wordtarget)"
   ]
  },
  {
   "cell_type": "code",
   "execution_count": 12,
   "metadata": {},
   "outputs": [
    {
     "name": "stdout",
     "output_type": "stream",
     "text": [
      "abc\n",
      "defghijklmnopqrstuvwx\n",
      "wxy\n",
      "wxyz\n"
     ]
    }
   ],
   "source": [
    "s = 'abcdefghijklmnopqrstuvwxyz'\n",
    "print(s[0:3], s[3:-2], s[-4:-1], s[-4:], sep='\\n')"
   ]
  },
  {
   "cell_type": "code",
   "execution_count": 13,
   "metadata": {},
   "outputs": [
    {
     "name": "stdout",
     "output_type": "stream",
     "text": [
      "True\n",
      "True\n",
      "True\n",
      "True\n"
     ]
    }
   ],
   "source": [
    "s = 'abcdefghijklmnopqrstuvwxyz'\n",
    "a = s[1:3] == 'bc'\n",
    "b = s[0:14] == 'abcdefghijklmn'\n",
    "c = s[14:] == 'opqrstuvwxyz'\n",
    "d = s[1:-1] == 'bcdefghijklmnopqrstuvwxy'\n",
    "print(a,b,c,d, sep='\\n')"
   ]
  },
  {
   "cell_type": "code",
   "execution_count": 18,
   "metadata": {},
   "outputs": [
    {
     "name": "stdout",
     "output_type": "stream",
     "text": [
      "128.0.0.1 - - [12/Feb/2011:10:31:08 -0600] \"GET /docs/test.txt HTTP/1.0\"\n",
      "['128.0.0.1', '-', '-', '[12/Feb/2011:10:31:08', '-0600]', '\"GET', '/docs/test.txt', 'HTTP/1.0\"']\n",
      "[12/Feb/2011:10:31:08 -0600]\n"
     ]
    }
   ],
   "source": [
    "log = '{}.{}.{}.{} - - [{}/{}/{}:{}:{}:{} {}] \"{}\"'.format(128,0,0,1,12,'Feb',2011,10,31,'08','-0600','GET /docs/test.txt HTTP/1.0')\n",
    "print(log)\n",
    "print(log.split())\n",
    "print(log.split()[3]+' '+log.split()[4])"
   ]
  },
  {
   "cell_type": "code",
   "execution_count": 24,
   "metadata": {},
   "outputs": [
    {
     "name": "stdout",
     "output_type": "stream",
     "text": [
      "['10', '20', '30', '40', '50', '60']\n",
      "['10', '20', '30', '40', '50', '60']\n",
      "['10', '20', '30', '40', '50', '60']\n",
      "['10', '20', '30', '40', '50', '60']\n"
     ]
    }
   ],
   "source": [
    "s_1 = '10 20 30 40 50 60'\n",
    "s_2 = '10,20,30,40,50,60'\n",
    "s_3 = '10&20&30&40&50&60'\n",
    "s_4 = '10 - 20 - 30 - 40 - 50 - 60'\n",
    "print(s_1.split(), s_2.split(','), s_3.split('&'), s_4.split(' - '), sep='\\n')"
   ]
  },
  {
   "cell_type": "code",
   "execution_count": 28,
   "metadata": {},
   "outputs": [
    {
     "name": "stdout",
     "output_type": "stream",
     "text": [
      "Enter first word: bass\n",
      "Enter second word: salmon\n",
      "Enter third word: whitefish\n",
      "True\n"
     ]
    }
   ],
   "source": [
    "first = input('Enter first word: ')\n",
    "second = input('Enter second word: ')\n",
    "third = input('Enter third word: ')\n",
    "comparator = first<second<third\n",
    "if comparator:\n",
    "    print(comparator)"
   ]
  },
  {
   "cell_type": "code",
   "execution_count": 29,
   "metadata": {},
   "outputs": [
    {
     "name": "stdout",
     "output_type": "stream",
     "text": [
      "The secret of this message is that it is secret.\n",
      "48\n",
      "2\n",
      "The xxxxxx of this message is that it is xxxxxx.\n"
     ]
    }
   ],
   "source": [
    "message = 'The secret of this message is that it is secret.'\n",
    "message_length = len(message)\n",
    "secret_substring_count = message.count('secret')\n",
    "encrypted = message.replace('secret', 'xxxxxx')\n",
    "print(message, message_length, secret_substring_count, encrypted, sep='\\n')"
   ]
  },
  {
   "cell_type": "code",
   "execution_count": 33,
   "metadata": {},
   "outputs": [
    {
     "name": "stdout",
     "output_type": "stream",
     "text": [
      "It was the best of times  it was the worst of times  it  was the age of wisdom  it was the age of foolishness  it was the  epoch of belief  it was the epoch of incredulity  it was    \n",
      "It was the best of times  it was the worst of times  it  was the age of wisdom  it was the age of foolishness  it was the  epoch of belief  it was the epoch of incredulity  it was\n",
      "it was the best of times  it was the worst of times  it  was the age of wisdom  it was the age of foolishness  it was the  epoch of belief  it was the epoch of incredulity  it was\n",
      "6\n",
      "it is the best of times  it is the worst of times  it  is the age of wisdom  it is the age of foolishness  it is the  epoch of belief  it is the epoch of incredulity  it is\n",
      "['it', 'is', 'the', 'best', 'of', 'times', 'it', 'is', 'the', 'worst', 'of', 'times', 'it', 'is', 'the', 'age', 'of', 'wisdom', 'it', 'is', 'the', 'age', 'of', 'foolishness', 'it', 'is', 'the', 'epoch', 'of', 'belief', 'it', 'is', 'the', 'epoch', 'of', 'incredulity', 'it', 'is']\n"
     ]
    }
   ],
   "source": [
    "s = '''It was the best of times, it was the worst of times; it \n",
    "was the age of wisdom, it was the age of foolishness; it was the \n",
    "epoch of belief, it was the epoch of incredulity; it was ...'''\n",
    "cleaner = str.maketrans('.,;\\n', 4*' ')\n",
    "newS = s.translate(cleaner)\n",
    "print(newS)\n",
    "newS = newS.strip()\n",
    "print(newS)\n",
    "newS = newS.lower()\n",
    "print(newS)\n",
    "sscount = newS.count('it was')\n",
    "print(sscount)\n",
    "newS = newS.replace('was', 'is')\n",
    "print(newS)\n",
    "listS = newS.split()\n",
    "print(listS)"
   ]
  },
  {
   "cell_type": "code",
   "execution_count": 34,
   "metadata": {},
   "outputs": [
    {
     "name": "stdout",
     "output_type": "stream",
     "text": [
      "Sigel, Marlena Mae\n",
      "Sigel, Marlena M.\n",
      "Marlena M. Sigel\n",
      "Marlena M. S\n",
      "Sigel, M.\n"
     ]
    }
   ],
   "source": [
    "first = 'Marlena'\n",
    "last = 'Sigel'\n",
    "middle = 'Mae'\n",
    "a = '{}, {} {}'.format(last, first, middle)\n",
    "b = '{}, {} {}.'.format(last, first, middle[0])\n",
    "c = '{} {}. {}'.format(first, middle[0], last)\n",
    "d = '{} {}. {}'.format(first, middle[0], last[0])\n",
    "e = '{}, {}.'.format(last, first[0])\n",
    "print(a,b,c,d,e, sep='\\n')"
   ]
  },
  {
   "cell_type": "code",
   "execution_count": 36,
   "metadata": {},
   "outputs": [
    {
     "name": "stdout",
     "output_type": "stream",
     "text": [
      "From: tim@abc.com \n",
      "To: tom@xyz.org \n",
      "Subject: hello!\n"
     ]
    }
   ],
   "source": [
    "sender = 'tim@abc.com'\n",
    "recipient = 'tom@xyz.org'\n",
    "subject = 'hello!'\n",
    "msg = 'From: {} \\nTo: {} \\nSubject: {}'.format(sender, recipient, subject)\n",
    "print(msg)"
   ]
  },
  {
   "cell_type": "code",
   "execution_count": 39,
   "metadata": {},
   "outputs": [
    {
     "name": "stdout",
     "output_type": "stream",
     "text": [
      "pi = 3.1, e = 2.7\n",
      "pi = 3.14, e = 2.72\n",
      "pi = 3.141593e+00, e = 2.718282e+00\n",
      "pi = 3.141593, e = 2.718282\n"
     ]
    }
   ],
   "source": [
    "import math\n",
    "a = 'pi = {:2.2}, e = {:2.2}'.format(math.pi, math.e)\n",
    "b = 'pi = {:3.3}, e = {:3.3}'.format(math.pi, math.e)\n",
    "c = 'pi = {:e}, e = {:e}'.format(math.pi, math.e)\n",
    "d = 'pi = {:5f}, e = {:5f}'.format(math.pi, math.e)\n",
    "print(a,b,c,d, sep='\\n')"
   ]
  },
  {
   "cell_type": "code",
   "execution_count": 42,
   "metadata": {},
   "outputs": [
    {
     "name": "stdout",
     "output_type": "stream",
     "text": [
      "Please enter number of month: 3\n",
      "Mar\n"
     ]
    }
   ],
   "source": [
    "n = eval(input('Please enter number of month: '))\n",
    "def month(n):\n",
    "    months = ('Jan', 'Feb', 'Mar', 'Apr', 'May', 'Jun', 'Jul', 'Aug', 'Sep', 'Okt', 'Nov', 'Dec')\n",
    "    print(months[n-1])\n",
    "month(n)"
   ]
  },
  {
   "cell_type": "code",
   "execution_count": 45,
   "metadata": {},
   "outputs": [
    {
     "name": "stdout",
     "output_type": "stream",
     "text": [
      "Please enter a sentence: A sample sentence\n"
     ]
    },
    {
     "data": {
      "text/plain": [
       "5.0"
      ]
     },
     "execution_count": 45,
     "metadata": {},
     "output_type": "execute_result"
    }
   ],
   "source": [
    "sentence = input('Please enter a sentence: ')\n",
    "def average(sentence):\n",
    "    lst = []\n",
    "    for word in sentence.split():\n",
    "        lst.append(len(word))\n",
    "    avg = sum(lst)/len(lst)\n",
    "    return avg\n",
    "average(sentence)"
   ]
  },
  {
   "cell_type": "code",
   "execution_count": 58,
   "metadata": {},
   "outputs": [
    {
     "name": "stdout",
     "output_type": "stream",
     "text": [
      "How do you spell winner?\n",
      "I know! I know!\n",
      "H U S K I E S !\n",
      "And that's how you spell winner!\n",
      "Go Huskies!\n"
     ]
    }
   ],
   "source": [
    "word = 'Huskies'\n",
    "def cheer(word):\n",
    "    print('How do you spell winner?')\n",
    "    print('I know! I know!')\n",
    "    wordUp = word.upper()\n",
    "    for chars in wordUp:\n",
    "        print(chars, end=' ')\n",
    "        \n",
    "    print('!', sep='\\n')\n",
    "    print('And that\\'s how you spell winner!')\n",
    "    print('Go '+ word+'!')\n",
    "cheer(word)"
   ]
  },
  {
   "cell_type": "code",
   "execution_count": 3,
   "metadata": {},
   "outputs": [
    {
     "data": {
      "text/plain": [
       "'a, i, u, e, and o appear, respectively, 1, 0, 1, 3, 1 times.'"
      ]
     },
     "execution_count": 3,
     "metadata": {},
     "output_type": "execute_result"
    }
   ],
   "source": [
    "sentence = 'Le Tour de France'\n",
    "def vowelCount(string):\n",
    "    string = string.lower()\n",
    "    a = string.count('a')\n",
    "    i = string.count('i')\n",
    "    u = string.count('u')\n",
    "    e = string.count('e')\n",
    "    o = string.count('o')\n",
    "    msg_str = 'a, i, u, e, and o appear, respectively, {}, {}, {}, {}, {} times.'\n",
    "    result = msg_str.format(a,i,u,e,o)\n",
    "    return result\n",
    "vowelCount(sentence)"
   ]
  },
  {
   "cell_type": "code",
   "execution_count": 9,
   "metadata": {},
   "outputs": [
    {
     "name": "stdout",
     "output_type": "stream",
     "text": [
      "I will tell you my xxxxxx. But first, I have to explain\n",
      "why it is a xxxxxx.\n",
      "\n",
      "And that is all I will tell you about my xxxxxx.\n",
      "\n"
     ]
    }
   ],
   "source": [
    "def crypto(filename):\n",
    "    infile = open(filename, 'r')\n",
    "    content = infile.read()\n",
    "    infile.close()\n",
    "    encrypted = content.replace('secret', 'xxxxxx')\n",
    "    print(encrypted)\n",
    "target = 'crypto.txt'\n",
    "crypto(target)"
   ]
  },
  {
   "cell_type": "code",
   "execution_count": 12,
   "metadata": {},
   "outputs": [],
   "source": [
    "def fcopy(source, target):\n",
    "    infile = open(source, 'r')\n",
    "    content = infile.read()\n",
    "    infile.close()\n",
    "    \n",
    "    outfile = open(target, 'w')\n",
    "    outfile.write(content)\n",
    "fcopy('example.txt', 'output.txt')"
   ]
  },
  {
   "cell_type": "code",
   "execution_count": 13,
   "metadata": {},
   "outputs": [
    {
     "name": "stdout",
     "output_type": "stream",
     "text": [
      "99\n"
     ]
    }
   ],
   "source": [
    "filename = 'links.html'\n",
    "def links(filename):\n",
    "    infile = open(filename, 'r')\n",
    "    content = infile.read()\n",
    "    infile.close()\n",
    "    num = content.count('</a>')\n",
    "    print(num)\n",
    "links(filename)"
   ]
  },
  {
   "cell_type": "code",
   "execution_count": 20,
   "metadata": {},
   "outputs": [
    {
     "name": "stdout",
     "output_type": "stream",
     "text": [
      "Number of char is 382045\n",
      "Number of line is 418\n",
      "Number of word is 11662\n"
     ]
    }
   ],
   "source": [
    "filename = 'links.html'\n",
    "def stats(filename):\n",
    "    infile = open(filename, 'r')\n",
    "    content = infile.read()\n",
    "    infile.close()\n",
    "    char = len(content)\n",
    "    lines = content.count('\\n')\n",
    "    word = len(content.split())\n",
    "    \n",
    "    print('Number of char is '+str(char))\n",
    "    print('Number of line is '+str(lines))\n",
    "    print('Number of word is '+str(word))\n",
    "stats(filename)"
   ]
  },
  {
   "cell_type": "code",
   "execution_count": 21,
   "metadata": {},
   "outputs": [
    {
     "data": {
      "text/plain": [
       "True"
      ]
     },
     "execution_count": 21,
     "metadata": {},
     "output_type": "execute_result"
    }
   ],
   "source": [
    "filename = 'example.txt'\n",
    "def distribution(filename):\n",
    "    infile = open(filename, 'r')\n",
    "    content = infile.read()\n",
    "    infile.close()\n",
    "    for word in content:\n",
    "        if content.count(word)>1:\n",
    "            return True\n",
    "distribution(filename)"
   ]
  },
  {
   "cell_type": "code",
   "execution_count": 33,
   "metadata": {},
   "outputs": [
    {
     "name": "stdout",
     "output_type": "stream",
     "text": [
      "line. line? line; line, line! line? line line line\n",
      "lain lain lain;\n",
      "lain aslkdjasdj. hehe.\n",
      "\n",
      "The 3 lines in this file end with the new line character.\n",
      "\n",
      "There is a blank line above this line.\n",
      "\n",
      "['line.', 'line?', 'line;', 'line,', 'line!', 'line?', 'line', 'line', 'line\\nlain', 'lain', 'lain;\\nlain', 'aslkdjasdj.', 'hehe.\\n\\nThe', '3', 'lines', 'in', 'this', 'file', 'end', 'with', 'the', 'new', 'line', 'character.\\n\\nThere', 'is', 'a', 'blank', 'line', 'above', 'this', 'line.\\n']\n",
      "line\n",
      "lain\n"
     ]
    }
   ],
   "source": [
    "filename = 'example.txt'\n",
    "def censor(filename):\n",
    "    infile = open(filename, 'r')\n",
    "    content = infile.read()\n",
    "    infile.close()\n",
    "    \n",
    "    print(content)\n",
    "    print(content.split(' '))\n",
    "    print(content.split(' ')[8])\n",
    "    for word in content:\n",
    "        if len(word) == 4:\n",
    "            print(word)\n",
    "            content = content.replace(word, 'xxxx')\n",
    "    \n",
    "    outfile = open('censored.txt', 'w')\n",
    "    outfile.write(content)\n",
    "censor(filename)"
   ]
  },
  {
   "cell_type": "code",
   "execution_count": 43,
   "metadata": {},
   "outputs": [],
   "source": [
    "filename = 'example.txt'\n",
    "def censor(filename):\n",
    "    infile = open(filename, 'r')\n",
    "    content = infile.read()\n",
    "    infile.close()\n",
    "    \n",
    "    num = content.count('\\n')\n",
    "    \n",
    "    infile = open(filename, 'r')\n",
    "    \n",
    "    censored = []\n",
    "    for i in range(0, num):\n",
    "        content_perline = infile.readline()\n",
    "        content_perline_list = content_perline.split()\n",
    "        censored_content = []\n",
    "        for word in content_perline_list:\n",
    "            if len(word) == 4:\n",
    "                censored_content.append('xxxx')\n",
    "            else: \n",
    "                censored_content.append(word)\n",
    "        censored_line = ' '.join(censored_content) + '\\n'\n",
    "        censored.append(censored_line)\n",
    "    \n",
    "    final = ''.join(censored)\n",
    "    outfile = open('censored.txt', 'w')\n",
    "    outfile.write(final)\n",
    "    infile.close()\n",
    "\n",
    "    \n",
    "censor(filename)"
   ]
  },
  {
   "cell_type": "code",
   "execution_count": null,
   "metadata": {},
   "outputs": [],
   "source": []
  }
 ],
 "metadata": {
  "kernelspec": {
   "display_name": "Python 3",
   "language": "python",
   "name": "python3"
  },
  "language_info": {
   "codemirror_mode": {
    "name": "ipython",
    "version": 3
   },
   "file_extension": ".py",
   "mimetype": "text/x-python",
   "name": "python",
   "nbconvert_exporter": "python",
   "pygments_lexer": "ipython3",
   "version": "3.8.3"
  }
 },
 "nbformat": 4,
 "nbformat_minor": 4
}
