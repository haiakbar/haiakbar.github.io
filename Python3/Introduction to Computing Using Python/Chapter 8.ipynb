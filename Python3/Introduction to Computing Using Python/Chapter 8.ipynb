{
 "cells": [
  {
   "cell_type": "code",
   "execution_count": null,
   "metadata": {},
   "outputs": [],
   "source": [
    "from math import sqrt\n",
    "class Point:\n",
    "    def __init__(self, xcoord=0, ycoord=0):\n",
    "        self.x = xcoord\n",
    "        self.y = ycoord\n",
    "    def __repr__(self):\n",
    "        return 'Point({},{})'.format(self.x, self.y)\n",
    "    def setx(self, xcoord):\n",
    "        self.x = xcoord\n",
    "    def sety(self, ycoord):\n",
    "        self.y = ycoord\n",
    "    def get(self):\n",
    "        return (self.x, self.y)\n",
    "    def getx(self):\n",
    "        return self.x\n",
    "    def gety(self):\n",
    "        return self.y\n",
    "    def move(self, dx, dy):\n",
    "        self.x += dx\n",
    "        self.y += dy\n",
    "    def __eq__(self, other):\n",
    "        return self.x == other.x and self.y == other.y\n",
    "    def distance(self, other):\n",
    "        x_dif = self.x - other.x\n",
    "        y_dif = self.y - other.y\n",
    "        return sqrt(x_dif**2 + y_dif**2)\n",
    "    def left(self):\n",
    "        self.x -= 1\n",
    "    def right(self):\n",
    "        self.x += 1\n",
    "    def up(self):\n",
    "        self.y += 1\n",
    "    def down(self):\n",
    "        self.y -= 1\n",
    "    \n",
    "class Vector(Point):\n",
    "    def __add__(self, other):\n",
    "        newx = self.x + other.x\n",
    "        newy = self.y + other.y\n",
    "        return Vector(newx, newy)\n",
    "    def __repr__(self):\n",
    "        return 'Vector({}, {})'.format(self.x, self.y)\n",
    "    def __mul__(self, other):\n",
    "        mulx = self.x * other.x\n",
    "        muly = self.y * other.y\n",
    "        return mulx+muly\n",
    "\n",
    "class Segment:\n",
    "    def __init__(self, p1, p2):\n",
    "        self.x1 = p1.x\n",
    "        self.x2 = p2.x\n",
    "        self.y1 = p1.y\n",
    "        self.y2 = p2.y\n",
    "    def length(self):\n",
    "        x_diff = self.x1 - self.x2\n",
    "        y_diff = self.y1 - self.y2\n",
    "        return sqrt(x_diff**2 + y_diff**2)\n",
    "    def slope(self):\n",
    "        return (self.y2-self.y1)/(self.x2-self.x1)\n",
    "\n",
    "a = Point(3,4)\n",
    "b = Point()\n",
    "c = Segment(a,b)\n",
    "c.length()\n",
    "c.slope()"
   ]
  },
  {
   "cell_type": "code",
   "execution_count": null,
   "metadata": {},
   "outputs": [],
   "source": [
    "point = Point()\n",
    "point.setx(2)\n",
    "point.sety(5)\n",
    "point.get()"
   ]
  },
  {
   "cell_type": "code",
   "execution_count": null,
   "metadata": {},
   "outputs": [],
   "source": [
    "class Test:\n",
    "    version = 1.02\n",
    "a = Test()\n",
    "b = Test()"
   ]
  },
  {
   "cell_type": "code",
   "execution_count": null,
   "metadata": {},
   "outputs": [],
   "source": [
    "Test.version=1.03\n",
    "a.version\n",
    "b.version"
   ]
  },
  {
   "cell_type": "code",
   "execution_count": null,
   "metadata": {},
   "outputs": [],
   "source": [
    "class Animal:\n",
    "    'Represent an animal'\n",
    "    def setSpecies(self, species):\n",
    "        'sets the animal species'\n",
    "        self.species = species\n",
    "    def setLanguage(self, language):\n",
    "        'sets the animal language'\n",
    "        self.language = language\n",
    "    def speak(self):\n",
    "        'print a sentence by the animal'\n",
    "        print('I am a {} and I {}'.format(self.species, self.language))\n",
    "    def setAge(self, age):\n",
    "        self.age = age\n",
    "    def getAge(self):\n",
    "        try:\n",
    "            return self.age\n",
    "        except:\n",
    "            return 'Age has not set'"
   ]
  },
  {
   "cell_type": "code",
   "execution_count": null,
   "metadata": {},
   "outputs": [],
   "source": [
    "class Rectangle:\n",
    "    def __init__(self, width = 1, length = 1):\n",
    "        self.width = width\n",
    "        self.length = length\n",
    "    def setSize(self, width, length):\n",
    "        self.width = width\n",
    "        self.length = length\n",
    "    def perimeter(self):\n",
    "        return 2*(self.width+self.length)\n",
    "    def area(self):\n",
    "        return self.width*self.length\n",
    "a = Rectangle()\n",
    "a.setSize(3,4)\n",
    "a.area()"
   ]
  },
  {
   "cell_type": "code",
   "execution_count": 73,
   "metadata": {},
   "outputs": [
    {
     "name": "stdout",
     "output_type": "stream",
     "text": [
      "meeow\n",
      "Hello world!\n"
     ]
    }
   ],
   "source": [
    "class Animal:\n",
    "    def __init__(self, species, language = 'make sounds'):\n",
    "        self.spec = species\n",
    "        self.lang = language\n",
    "    def speak(self):\n",
    "        print('I am a {} and I {}'.format(self.spec, self.lang))\n",
    "\n",
    "class Bird(Animal):\n",
    "    def speak(self):\n",
    "        print('{!} '.format(self.lang)*3)\n",
    "\n",
    "class Mammal(Animal):\n",
    "    pass\n",
    "\n",
    "class Cat(Mammal):\n",
    "    def __init__(self):\n",
    "        Animal.__init__(self, 'cat', 'meeow')\n",
    "    def speak(self):\n",
    "        print('{}'.format(self.lang))\n",
    "\n",
    "class Primate(Animal):\n",
    "    pass\n",
    "\n",
    "class Hacker(Primate):\n",
    "    def __init__(self):\n",
    "        Animal.__init__(self, 'hacker', 'Hello world!')\n",
    "    def speak(self):\n",
    "        print('{}'.format(self.lang))\n",
    "a = Cat()\n",
    "a.speak()\n",
    "b = Hacker()\n",
    "b.speak()"
   ]
  },
  {
   "cell_type": "code",
   "execution_count": null,
   "metadata": {},
   "outputs": [],
   "source": [
    "from random import shuffle\n",
    "class Card:\n",
    "    rankVal = {'2':2, '3':3, '4':4, '5':5, '6':6, '7':7,'8':8, '9':9, '10':10, 'J':10, 'Q':10, 'K':10, 'A':11}\n",
    "    def __init__(self, rank, suit):\n",
    "        self.rank = rank\n",
    "        self.suit = suit\n",
    "    def getRank(self):\n",
    "        return self.rank\n",
    "    def getSuit(self):\n",
    "        return self.suit\n",
    "    def __eq__(self, other):\n",
    "        return self.rank == other.rank and self.suit == other.suit\n",
    "    def __repr__(self):\n",
    "        return 'Card {} {}'.format(self.rank, self.suit)\n",
    "    def __lt__(self, other):\n",
    "        return self.rankVal[self.rank] < self.rankVal[other.rank]\n",
    "    def __le__(self, other):\n",
    "        return self.rankVal[self.rank] <= self.rankVal[other.rank]\n",
    "    def __gt__(self, other):\n",
    "        return self.rankVal[self.rank] > self.rankVal[other.rank]\n",
    "    def __ge__(self, other):\n",
    "        return self.rankVal[self.rank] >= self.rankVal[other.rank]\n",
    "    \n",
    "class Deck:\n",
    "    ranks = {'2', '3', '4', '5', '6', '7', '8', '9', '10', 'J', 'Q', 'K', 'A'}\n",
    "    suits = {'\\u2660', '\\u2661', '\\u2662', '\\u2663'}\n",
    "    \n",
    "    def __init__(self):\n",
    "        self.deck = []\n",
    "        for suit in Deck.suits:\n",
    "            for rank in Deck.ranks:\n",
    "                self.deck.append(Card(rank, suit))\n",
    "    def dealCard(self):\n",
    "        return self.deck.pop()\n",
    "    \n",
    "    def shuffle(self):\n",
    "        shuffle(self.deck)\n",
    "    \n",
    "    def __len__(self):\n",
    "        return len(self.deck)\n",
    "\n",
    "class Hand:\n",
    "    cards = []\n",
    "    def __init__(self, name):\n",
    "        self.name = name\n",
    "    def addCard(self, card):\n",
    "        self.cards.append(card)\n",
    "    def showHand(self):\n",
    "        print(self.name, self.cards, sep=' ')\n",
    "hand = Hand('yuhu')\n",
    "deck = Deck()\n",
    "deck.shuffle()\n",
    "hand.addCard(deck.dealCard())\n",
    "hand.showHand()"
   ]
  },
  {
   "cell_type": "code",
   "execution_count": null,
   "metadata": {},
   "outputs": [],
   "source": [
    "from random import shuffle\n",
    "class Deck2:\n",
    "    \n",
    "    def __init__(self, deck):\n",
    "        self.deck = deck\n",
    "    \n",
    "    def shuffle(self):\n",
    "        shuffle(self.deck)\n",
    "        \n",
    "    def dealCard(self):\n",
    "        return self.deck.pop()\n",
    "\n",
    "deck = Deck2(['1', '2', '3', '4'])\n",
    "deck.shuffle()\n",
    "deck.dealCard()\n",
    "    "
   ]
  },
  {
   "cell_type": "code",
   "execution_count": null,
   "metadata": {},
   "outputs": [],
   "source": [
    "class EmptyQueueError(Exception):\n",
    "    pass\n",
    "\n",
    "class Queue:\n",
    "    def __init__(self, q=None):\n",
    "        if q == None:\n",
    "            self.q = []\n",
    "        else:\n",
    "            self.q = q\n",
    "    def isEmpty(self):\n",
    "        return (len(self.q)==0)\n",
    "    def enqueue(self, item):\n",
    "        return self.q.append(item)\n",
    "    def dequeue(self):\n",
    "        if len(self.q) == 0:\n",
    "            raise EmptyQueueError('dequeue from empty queue')\n",
    "        else:\n",
    "            return self.q.pop(0)\n",
    "    def __eq__(self, other):\n",
    "        return self.q == other.q\n",
    "    def __len__(self):\n",
    "        return len(self.q)\n",
    "    def __repr__(self):\n",
    "        return 'Queue({})'.format(self.q)\n",
    "\n",
    "p = Queue(['a', 'b', 'c'])\n",
    "q = p\n",
    "q.dequeue()"
   ]
  },
  {
   "cell_type": "code",
   "execution_count": null,
   "metadata": {},
   "outputs": [],
   "source": [
    "class MyInt(int):\n",
    "    def __add__(self, other):\n",
    "        return 'Whatever'\n",
    "x = MyInt(5)\n",
    "x+6"
   ]
  },
  {
   "cell_type": "code",
   "execution_count": null,
   "metadata": {},
   "outputs": [],
   "source": [
    "class MyStr(str):\n",
    "    def __add__(self, other):\n",
    "        return len(self)+len(other)\n",
    "    def __mul__(self, other):\n",
    "        return len(self)*len(other)\n",
    "a = MyStr('Hello')\n",
    "a*'universe'"
   ]
  },
  {
   "cell_type": "code",
   "execution_count": null,
   "metadata": {},
   "outputs": [],
   "source": [
    "class MyList(list):\n",
    "    def sort(self):\n",
    "        return 'You wish ...'"
   ]
  },
  {
   "cell_type": "code",
   "execution_count": 80,
   "metadata": {},
   "outputs": [],
   "source": [
    "class NegativeBalanceError(Exception):\n",
    "    pass\n",
    "class NegativeDepositError(Exception):\n",
    "    pass\n",
    "class OverdraftError(Exception):\n",
    "    pass\n",
    "\n",
    "class BankAccount:\n",
    "    def __init__(self, initial=0):\n",
    "        if initial >= 0:\n",
    "            self.blc = initial\n",
    "        else:\n",
    "            raise NegativeBalanceError('Account created with negative balance -{}'.format(initial))\n",
    "    def withdraw(self, amount):\n",
    "        if self.blc >= amount:\n",
    "            self.blc -= amount\n",
    "        else:\n",
    "            raise OverdraftError('Operation would result in negative balance -{}'.format(amount))\n",
    "    def deposit(self, amount):\n",
    "        if amount < 0:\n",
    "            raise NegativeDepositError('Negative deposit -{}'.format(amount))\n",
    "        else:\n",
    "            self.blc += amount\n",
    "    def balance(self):\n",
    "        return self.blc\n",
    "a = BankAccount(100)\n",
    "a.withdraw(70)"
   ]
  },
  {
   "cell_type": "code",
   "execution_count": null,
   "metadata": {},
   "outputs": [],
   "source": [
    "from math import tan, pi\n",
    "class Polygon:\n",
    "    def __init__(self, sides=3, length=1):\n",
    "        self.sides = sides\n",
    "        self.length = length\n",
    "    def perimeter(self):\n",
    "        return self.length*self.sides\n",
    "    def area(self):\n",
    "        return (self.sides*self.length**2)/(4*tan(pi/self.sides))\n",
    "a = Polygon(6,1)\n",
    "a.area()\n",
    "a.perimeter()"
   ]
  },
  {
   "cell_type": "code",
   "execution_count": null,
   "metadata": {},
   "outputs": [],
   "source": [
    "class Worker:\n",
    "    def __init__(self, name, payrate):\n",
    "        if type(name) != str:\n",
    "            return 'Please enter string!'\n",
    "        else:\n",
    "            self.name = name\n",
    "        if type(payrate) == int:\n",
    "            self.payrate = payrate\n",
    "        else:\n",
    "            return 'Please enter integer rate'\n",
    "    def changeRate(self, newrate):\n",
    "        if type(newrate) == int:\n",
    "            self.payrate = newrate\n",
    "        else:\n",
    "            return 'Please enter integer rate'\n",
    "    def pay(self, hours):\n",
    "        return 'Not implemented'\n",
    "\n",
    "class HourlyWorker(Worker):\n",
    "    def pay(self, hours):\n",
    "        if hours > 40:\n",
    "            return self.payrate*40 + self.payrate*(hours-40)*2\n",
    "        else:\n",
    "            return self.payrate*40\n",
    "\n",
    "class SalariedWorker(Worker):\n",
    "    def pay(self):\n",
    "        return self.payrate*40\n",
    "a = SalariedWorker('Yuhu', 40)\n",
    "a.pay()"
   ]
  },
  {
   "cell_type": "code",
   "execution_count": 69,
   "metadata": {},
   "outputs": [
    {
     "data": {
      "text/plain": [
       "18"
      ]
     },
     "execution_count": 69,
     "metadata": {},
     "output_type": "execute_result"
    }
   ],
   "source": [
    "import time\n",
    "\n",
    "class Person:\n",
    "    year = time.strftime('%Y', time.localtime())\n",
    "    \n",
    "    def __init__(self, name, birthyear):\n",
    "        self.naame = name\n",
    "        self.birthyear = birthyear\n",
    "    def age(self):\n",
    "        return int(self.year)-self.birthyear\n",
    "    def name(self):\n",
    "        return self.naame\n",
    "\n",
    "class Instructor(Person):\n",
    "    def __init__(self, name, birthyear, degree):\n",
    "        Person.__init__(self, name, birthyear)\n",
    "        self.deg = degree\n",
    "    def degree(self):\n",
    "        return self.deg\n",
    "\n",
    "class Student(Person):\n",
    "    def __init__(self, name, birthyear, major):\n",
    "        Person.__init__(self, name, birthyear)\n",
    "        self.maj = major\n",
    "    def major(self):\n",
    "        return self.maj\n",
    "\n",
    "x = Instructor('Akbar', 2002, 'Computer Science')\n",
    "x.degree()\n",
    "x.age()"
   ]
  },
  {
   "cell_type": "code",
   "execution_count": null,
   "metadata": {},
   "outputs": [],
   "source": [
    "class Textfile:\n",
    "    def __init__(self, filename):\n",
    "        self.file = open(filename, 'r')\n",
    "    def nchars(self):\n",
    "        return len(self.file.read())\n",
    "    def nwords(self):\n",
    "        return len(self.file.read().split())\n",
    "    def nlines(self):\n",
    "        return len(self.file.readlines())\n",
    "    def read(self):\n",
    "        return self.file.read()\n",
    "    def readlines(self):\n",
    "        return self.file.readlines()\n",
    "    def grep(self,word):\n",
    "        line = self.readlines()\n",
    "        for i in range(len(line)):\n",
    "            if word in line[i]:\n",
    "                print('{}: {}'.format(i, line[i]))\n",
    "    def words(self):\n",
    "        allWord = self.read()\n",
    "        perWord = allWord.split()\n",
    "        wordContainer = set()\n",
    "        for wrd in perWord:\n",
    "            wordContainer.add(wrd)\n",
    "        return wordContainer\n",
    "    def occurences(self):\n",
    "        allWord = self.read()\n",
    "        perWord = allWord.split()\n",
    "        counter = {}\n",
    "        for wrd in perWord:\n",
    "            if wrd in counter:\n",
    "                counter[wrd] += 1\n",
    "            else:\n",
    "                counter[wrd] = 1\n",
    "        return counter\n",
    "hello = Textfile('example.txt')\n",
    "hello.occurences()"
   ]
  },
  {
   "cell_type": "code",
   "execution_count": 7,
   "metadata": {},
   "outputs": [
    {
     "data": {
      "text/plain": [
       "'Nov 04, 2020'"
      ]
     },
     "execution_count": 7,
     "metadata": {},
     "output_type": "execute_result"
    }
   ],
   "source": [
    "from time import strftime, localtime\n",
    "class Date:\n",
    "    def __init__(self):\n",
    "        self.time = localtime()\n",
    "    \n",
    "    def display(self, code):\n",
    "        index = {\n",
    "        'MDY':strftime('%m/%d/%y', self.time),\n",
    "        'MDYY':strftime('%m/%d/%Y', self.time),\n",
    "        'DMY':strftime('%d/%m/%y', self.time),\n",
    "        'DMYY':strftime('%m/%d/%Y', self.time),\n",
    "        'MODY':strftime('%b %d, %Y', self.time)\n",
    "        }\n",
    "        if code in index:\n",
    "            return index[code]\n",
    "        else:\n",
    "            return 'no such parameter!'\n",
    "he = Date()\n",
    "he.display('MODY')\n",
    "    "
   ]
  },
  {
   "cell_type": "code",
   "execution_count": 17,
   "metadata": {},
   "outputs": [
    {
     "name": "stdout",
     "output_type": "stream",
     "text": [
      "Throw total: 6. Throw for Point\n"
     ]
    },
    {
     "data": {
      "text/plain": [
       "'Throw total: 11. You won!'"
      ]
     },
     "execution_count": 17,
     "metadata": {},
     "output_type": "execute_result"
    }
   ],
   "source": [
    "import random\n",
    "class Craps:\n",
    "    def __init__(self):\n",
    "        dice = [1,2,3,4,5,6]\n",
    "        win = [7,11]\n",
    "        lose = [2,3,12]\n",
    "        dice1 = random.choice(dice)\n",
    "        dice2 = random.choice(dice)\n",
    "        if dice1+dice2 in win:\n",
    "            print('Throw total: {}. You won!'.format(dice1+dice2))\n",
    "        elif dice1+dice2 in lose:\n",
    "            print('Throw total: {}. You lost!'.format(dice1+dice2))\n",
    "        else:\n",
    "            print('Throw total: {}. Throw for Point'.format(dice1+dice2))\n",
    "    def forPoint(self):\n",
    "        dice = [1,2,3,4,5,6]\n",
    "        win = [7,11]\n",
    "        lose = [2,3,12]\n",
    "        dice1 = random.choice(dice)\n",
    "        dice2 = random.choice(dice)\n",
    "        if dice1+dice2 in win:\n",
    "            return 'Throw total: {}. You won!'.format(dice1+dice2)\n",
    "        elif dice1+dice2 in lose:\n",
    "            return 'Throw total: {}. You lost!'.format(dice1+dice2)\n",
    "        else:\n",
    "            return 'Throw total: {}. Throw for Point'.format(dice1+dice2)\n",
    "\n",
    "a = Craps()\n",
    "a.forPoint()"
   ]
  },
  {
   "cell_type": "code",
   "execution_count": 4,
   "metadata": {},
   "outputs": [
    {
     "data": {
      "text/plain": [
       "29"
      ]
     },
     "execution_count": 4,
     "metadata": {},
     "output_type": "execute_result"
    }
   ],
   "source": [
    "import random\n",
    "class pseudorandom:\n",
    "    def __init__(self, a, x, c, m):\n",
    "        self.a = a\n",
    "        self.x = x\n",
    "        self.c = c\n",
    "        self.m = m\n",
    "    def next(self):\n",
    "        self.x = ((self.a * self.x) + self.c)%self.m\n",
    "        return self.x\n",
    "x = pseudorandom(17,12,7,31)\n",
    "x.next()\n",
    "x.next()"
   ]
  },
  {
   "cell_type": "code",
   "execution_count": 45,
   "metadata": {},
   "outputs": [
    {
     "data": {
      "text/plain": [
       "[]"
      ]
     },
     "execution_count": 45,
     "metadata": {},
     "output_type": "execute_result"
    }
   ],
   "source": [
    "class Stat(list):\n",
    "    def add(self, num):\n",
    "        self.append(num)\n",
    "    def min(self):\n",
    "        return min(self)\n",
    "    def max(self):\n",
    "        return max(self)\n",
    "    def sum(self):\n",
    "        return sum(self)\n",
    "    def mean(self):\n",
    "        return self.sum()/len(self)\n",
    "\n",
    "x = Stat()\n",
    "x.add(5)\n",
    "x.add(10)\n",
    "x.add(3)\n",
    "x.mean()\n",
    "x.clear()\n",
    "x"
   ]
  },
  {
   "cell_type": "code",
   "execution_count": 50,
   "metadata": {},
   "outputs": [
    {
     "data": {
      "text/plain": [
       "False"
      ]
     },
     "execution_count": 50,
     "metadata": {},
     "output_type": "execute_result"
    }
   ],
   "source": [
    "class Stack(list):\n",
    "    def push(self, item):\n",
    "        self.append(item)\n",
    "    def isEmpty(self):\n",
    "        if len(self) == 0:\n",
    "            return True\n",
    "        else:\n",
    "            return False\n",
    "\n",
    "s = Stack()\n",
    "s.push('plate 1')\n",
    "s.push('plate 2')\n",
    "s.push('plate 3')\n",
    "s.pop()\n",
    "s.isEmpty()"
   ]
  },
  {
   "cell_type": "code",
   "execution_count": 55,
   "metadata": {},
   "outputs": [
    {
     "data": {
      "text/plain": [
       "2"
      ]
     },
     "execution_count": 55,
     "metadata": {},
     "output_type": "execute_result"
    }
   ],
   "source": [
    "class PriorityQueue(list):\n",
    "    def insert(self, num):\n",
    "        self.append(num)\n",
    "    def removeMin(self):\n",
    "        self.pop(min(self))\n",
    "    def isEmpty(self):\n",
    "        if len(self) == 0:\n",
    "            return True\n",
    "        else:\n",
    "            return False\n",
    "    def min(self):\n",
    "        return min(self)\n",
    "\n",
    "a = PriorityQueue()\n",
    "a.insert(3)\n",
    "a.insert(1)\n",
    "a.insert(5)\n",
    "a.insert(2)\n",
    "a.removeMin()\n",
    "a\n",
    "a.min()"
   ]
  },
  {
   "cell_type": "code",
   "execution_count": 62,
   "metadata": {},
   "outputs": [
    {
     "data": {
      "text/plain": [
       "27.712812921102035"
      ]
     },
     "execution_count": 62,
     "metadata": {},
     "output_type": "execute_result"
    }
   ],
   "source": [
    "from math import tan, pi, sqrt\n",
    "class Polygon:\n",
    "    def __init__(self, sides=3, length=1):\n",
    "        self.sides = sides\n",
    "        self.length = length\n",
    "    def perimeter(self):\n",
    "        return self.length*self.sides\n",
    "    def area(self):\n",
    "        return (self.sides*self.length**2)/(4*tan(pi/self.sides))\n",
    "\n",
    "class Square(Polygon):\n",
    "    def __init__(self, length):\n",
    "        Polygon.__init__(self, 4, length)\n",
    "    def area(self):\n",
    "        return self.length**2\n",
    "\n",
    "class Triangle(Polygon):\n",
    "    def __init__(self, length):\n",
    "        Polygon.__init__(self, 3, length)\n",
    "    def area(self):\n",
    "        return (sqrt(3)*self.length**2)\n",
    "a = Triangle(4)\n",
    "a.area()"
   ]
  }
 ],
 "metadata": {
  "kernelspec": {
   "display_name": "Python 3",
   "language": "python",
   "name": "python3"
  },
  "language_info": {
   "codemirror_mode": {
    "name": "ipython",
    "version": 3
   },
   "file_extension": ".py",
   "mimetype": "text/x-python",
   "name": "python",
   "nbconvert_exporter": "python",
   "pygments_lexer": "ipython3",
   "version": "3.8.3"
  }
 },
 "nbformat": 4,
 "nbformat_minor": 4
}
