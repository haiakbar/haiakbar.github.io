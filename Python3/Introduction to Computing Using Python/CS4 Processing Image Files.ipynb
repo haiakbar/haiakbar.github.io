{
 "cells": [
  {
   "cell_type": "code",
   "execution_count": 16,
   "metadata": {},
   "outputs": [],
   "source": [
    "import PIL.Image\n",
    "import PIL.ImageFilter\n",
    "\n",
    "photo = 'oppa.jpg'\n",
    "def warhol(photo):\n",
    "    im = PIL.Image.open(photo)\n",
    "    w = im.size[0]\n",
    "    h = im.size[1]\n",
    "    \n",
    "    result = PIL.Image.new('RGB', (2*w,2*h))\n",
    "    box = (0,0,w,h)\n",
    "    result.paste(im,box)\n",
    "    \n",
    "    smoothed = im.filter(PIL.ImageFilter.SMOOTH)\n",
    "    box_smooth = (w,0,2*w,h)\n",
    "    result.paste(smoothed,box_smooth)\n",
    "    \n",
    "    embossed = im.filter(PIL.ImageFilter.EMBOSS)\n",
    "    box_emboss = (0,h,w,2*h)\n",
    "    result.paste(embossed, box_emboss)\n",
    "    \n",
    "    edged = im.filter(PIL.ImageFilter.FIND_EDGES)\n",
    "    box_edged = (w,h,2*w,2*h)\n",
    "    result.paste(embossed, box_edged)\n",
    "    \n",
    "    im.close()\n",
    "    result.save('yey.jpg')\n",
    "\n",
    "warhol(photo)"
   ]
  },
  {
   "cell_type": "code",
   "execution_count": null,
   "metadata": {},
   "outputs": [],
   "source": [
    "import PIL.Image\n",
    "im = PIL.Image.Open()"
   ]
  }
 ],
 "metadata": {
  "kernelspec": {
   "display_name": "Python 3",
   "language": "python",
   "name": "python3"
  },
  "language_info": {
   "codemirror_mode": {
    "name": "ipython",
    "version": 3
   },
   "file_extension": ".py",
   "mimetype": "text/x-python",
   "name": "python",
   "nbconvert_exporter": "python",
   "pygments_lexer": "ipython3",
   "version": "3.8.3"
  }
 },
 "nbformat": 4,
 "nbformat_minor": 4
}
