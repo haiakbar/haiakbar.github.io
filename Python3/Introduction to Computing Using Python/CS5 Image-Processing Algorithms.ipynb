{
 "cells": [
  {
   "cell_type": "code",
   "execution_count": 2,
   "metadata": {},
   "outputs": [],
   "source": [
    "import PIL.Image\n",
    "oppa = 'oppa.jpg'\n",
    "a = (100,100)\n",
    "b = (600,600)\n",
    "def crop(filename, tl, br):\n",
    "    width = br[0]-tl[0]\n",
    "    height = br[1]-tl[1]\n",
    "    \n",
    "    im = PIL.Image.open(filename)\n",
    "    im2 = PIL.Image.new('RGB', (width, height))\n",
    "       \n",
    "    for i in range(0,width):\n",
    "        for j in range(0,height):\n",
    "            loc = (a[0]+i, a[1]+j)\n",
    "            pix = im.getpixel(loc)\n",
    "            im2.putpixel((i,j), pix)\n",
    "    \n",
    "    im2.save('crop.jpg')\n",
    "    return im2.show()\n",
    "\n",
    "crop(oppa,a,b)"
   ]
  },
  {
   "cell_type": "code",
   "execution_count": 8,
   "metadata": {},
   "outputs": [],
   "source": [
    "import PIL.Image\n",
    "oppa = 'oppa.jpg'\n",
    "def rorateCL(filename):\n",
    "    im = PIL.Image.open(filename)\n",
    "    n,m = im.size\n",
    "    res = PIL.Image.new(im.mode, (m,n))\n",
    "    \n",
    "    for i in range(0,n):\n",
    "        for j in range(0,m):\n",
    "            pix = im.getpixel((i,j))\n",
    "            res.putpixel((m-j-1,i), pix)\n",
    "    \n",
    "    return res\n",
    "rotated = rorateCL(oppa)\n",
    "rotated.show()"
   ]
  },
  {
   "cell_type": "code",
   "execution_count": 11,
   "metadata": {},
   "outputs": [],
   "source": [
    "import PIL.Image\n",
    "oppa = 'oppa.jpg'\n",
    "def negative(filename):\n",
    "    im = PIL.Image.open(filename)\n",
    "    w,h = im.size\n",
    "    res = PIL.Image.new(im.mode, (w,h))\n",
    "    \n",
    "    for i in range(0,w):\n",
    "        for j in range(0,h):\n",
    "            pix = im.getpixel((i,j))\n",
    "            red = 255 - pix[0]\n",
    "            green = 255 - pix[1]\n",
    "            blue = 255- pix[2]\n",
    "            res.putpixel((i,j),(red,green,blue))\n",
    "    \n",
    "    return res\n",
    "\n",
    "neg = negative(oppa)\n",
    "neg.show()"
   ]
  },
  {
   "cell_type": "code",
   "execution_count": 18,
   "metadata": {},
   "outputs": [],
   "source": [
    "import PIL.Image\n",
    "oppa = 'oppa.jpg'\n",
    "def mirror(filename):\n",
    "    im = PIL.Image.open(filename)\n",
    "    w,h = im.size\n",
    "    res = PIL.Image.new(im.mode, (w,h))\n",
    "    \n",
    "    for i in range(0,w):\n",
    "        for j in range(0,h):\n",
    "            pix = im.getpixel((i,j))\n",
    "            res.putpixel((w-i-1,j),pix)\n",
    "    \n",
    "    return res\n",
    "\n",
    "mir = mirror(oppa)\n",
    "mir.show()"
   ]
  },
  {
   "cell_type": "code",
   "execution_count": 19,
   "metadata": {},
   "outputs": [],
   "source": [
    "import PIL.Image\n",
    "oppa = 'oppa.jpg'\n",
    "def rotate180(filename):\n",
    "    im = PIL.Image.open(filename)\n",
    "    w,h = im.size\n",
    "    res = PIL.Image.new(im.mode, (w,h))\n",
    "    \n",
    "    for i in range(0,w):\n",
    "        for j in range(0,h):\n",
    "            pix = im.getpixel((i,j))\n",
    "            res.putpixel((w-i-1,h-j-1), pix)\n",
    "            \n",
    "    return res\n",
    "\n",
    "rotated = rotate180(oppa)\n",
    "rotated.show()"
   ]
  },
  {
   "cell_type": "code",
   "execution_count": 21,
   "metadata": {},
   "outputs": [],
   "source": [
    "import PIL.Image\n",
    "oppa = 'oppa.jpg'\n",
    "def bnw(filename):\n",
    "    im = PIL.Image.open(filename)\n",
    "    w,h = im.size\n",
    "    res = PIL.Image.new(im.mode, (w,h))\n",
    "    \n",
    "    for i in range(0,w):\n",
    "        for j in range(0,h):\n",
    "            pix = im.getpixel((i,j))\n",
    "            bw = (pix[0]+pix[1]+pix[2])//3\n",
    "            res.putpixel((i,j), (bw,bw,bw))\n",
    "    \n",
    "    return res\n",
    "fin = bnw(oppa)\n",
    "fin.show()"
   ]
  },
  {
   "cell_type": "code",
   "execution_count": 3,
   "metadata": {},
   "outputs": [
    {
     "name": "stdout",
     "output_type": "stream",
     "text": [
      "35.142356634140015\n"
     ]
    }
   ],
   "source": [
    "import PIL.Image\n",
    "import time\n",
    "oppa = 'oppa.jpg'\n",
    "def smooth2(filename):\n",
    "    im = PIL.Image.open(filename)\n",
    "    w,h = im.size\n",
    "    res = PIL.Image.new(im.mode,(w,h))\n",
    "    \n",
    "    for i in range(0,w):\n",
    "        for j in range(0,h):\n",
    "            wei = im.getpixel((i,j))\n",
    "            \n",
    "            r,g,b = 4*wei[0], 4*wei[1], 4*wei[2]\n",
    "            numPixels = 4\n",
    "            \n",
    "            for c in range(max(0,i-1), min(w,i+2)):\n",
    "                for r in range(max(0,j-1), min(h,j+2)):\n",
    "                    numPixels += 1\n",
    "                    pix = im.getpixel((c,r))\n",
    "                    r = r + pix[0]\n",
    "                    g = g + pix[1]\n",
    "                    b = b + pix[2]\n",
    "            \n",
    "            r = r//numPixels\n",
    "            g = g//numPixels\n",
    "            b = b//numPixels\n",
    "            \n",
    "            res.putpixel((i,j), (r,g,b))\n",
    "    return res\n",
    "start = time.time()\n",
    "yo = smooth2(oppa)\n",
    "yo.save('smth.jpg')\n",
    "yo.show()\n",
    "end = time.time()\n",
    "print(end-start)"
   ]
  },
  {
   "cell_type": "code",
   "execution_count": 4,
   "metadata": {},
   "outputs": [
    {
     "name": "stdout",
     "output_type": "stream",
     "text": [
      "37.060466051101685\n"
     ]
    }
   ],
   "source": [
    "import PIL.Image\n",
    "import time\n",
    "oppa = 'oppa.jpg'\n",
    "def sharpen(filename):\n",
    "    im = PIL.Image.open(filename)\n",
    "    w,h = im.size\n",
    "    res = PIL.Image.new(im.mode,(w,h))\n",
    "    \n",
    "    for i in range(0,w):\n",
    "        for j in range(0,h):\n",
    "            wei = im.getpixel((i,j))\n",
    "            \n",
    "            r,g,b = 34*wei[0], 34*wei[1], 34*wei[2]\n",
    "            numPixels = 34\n",
    "            \n",
    "            for c in range(max(0,i-1), min(w,i+2)):\n",
    "                for r in range(max(0,j-1), min(h,j+2)):\n",
    "                    numPixels += 1\n",
    "                    pix = im.getpixel((c,r))\n",
    "                    r = r - 2*pix[0]\n",
    "                    g = g - 2*pix[1]\n",
    "                    b = b - 2*pix[2]\n",
    "            \n",
    "            r = r//numPixels\n",
    "            g = g//numPixels\n",
    "            b = b//numPixels\n",
    "            \n",
    "            res.putpixel((i,j), (r,g,b))\n",
    "    return res\n",
    "start = time.time()\n",
    "yo = sharpen(oppa)\n",
    "yo.save('sharp.jpg')\n",
    "yo.show()\n",
    "end = time.time()\n",
    "print(end-start)"
   ]
  },
  {
   "cell_type": "code",
   "execution_count": 6,
   "metadata": {},
   "outputs": [
    {
     "name": "stdout",
     "output_type": "stream",
     "text": [
      "35.61078071594238\n"
     ]
    }
   ],
   "source": [
    "import PIL.Image\n",
    "import time\n",
    "oppa = 'oppa.jpg'\n",
    "def blur(filename):\n",
    "    im = PIL.Image.open(filename)\n",
    "    w,h = im.size\n",
    "    res = PIL.Image.new(im.mode,(w,h))\n",
    "    for i in range(0,w):\n",
    "        for j in range(0,h):\n",
    "            wei = im.getpixel((i,j))\n",
    "            r,g,b = -1*wei[0], -1*wei[1], -1*wei[2]\n",
    "            numPixels = -1\n",
    "            for c in range(max(0,i-1), min(w,i+2)):\n",
    "                for r in range(max(0,j-1), min(h,j+2)):\n",
    "                    numPixels += 1\n",
    "                    pix = im.getpixel((c,r))\n",
    "                    r = r + pix[0]\n",
    "                    g = g + pix[1]\n",
    "                    b = b + pix[2]\n",
    "            r = r//numPixels\n",
    "            g = g//numPixels\n",
    "            b = b//numPixels\n",
    "            res.putpixel((i,j), (r,g,b))\n",
    "    return res\n",
    "start = time.time()\n",
    "yo = blur(oppa)\n",
    "yo.save('blur.jpg')\n",
    "yo.show()\n",
    "end = time.time()\n",
    "print(end-start)"
   ]
  },
  {
   "cell_type": "code",
   "execution_count": null,
   "metadata": {},
   "outputs": [],
   "source": []
  }
 ],
 "metadata": {
  "kernelspec": {
   "display_name": "Python 3",
   "language": "python",
   "name": "python3"
  },
  "language_info": {
   "codemirror_mode": {
    "name": "ipython",
    "version": 3
   },
   "file_extension": ".py",
   "mimetype": "text/x-python",
   "name": "python",
   "nbconvert_exporter": "python",
   "pygments_lexer": "ipython3",
   "version": "3.8.3"
  }
 },
 "nbformat": 4,
 "nbformat_minor": 4
}
