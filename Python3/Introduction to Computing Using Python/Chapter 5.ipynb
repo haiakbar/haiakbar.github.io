{
 "cells": [
  {
   "cell_type": "code",
   "execution_count": null,
   "metadata": {},
   "outputs": [],
   "source": [
    "w = eval(input('Please enter your weight in pounds'))\n",
    "h = eval(input('Please enter your height in inchs'))\n",
    "def myBMI(w,h):\n",
    "    bmi=w*703/h**2\n",
    "    if bmi >= 25:\n",
    "        print('overweight!')\n",
    "    elif 18.5 <= bmi <25:\n",
    "        print('normal')\n",
    "    elif bmi < 18.5:\n",
    "        print('underweight')\n",
    "    else:\n",
    "        print('Unkown eror')\n",
    "myBMI(w,h)"
   ]
  },
  {
   "cell_type": "code",
   "execution_count": null,
   "metadata": {},
   "outputs": [],
   "source": [
    "x = 6\n",
    "def powers(x):\n",
    "    for i in range(1,x+1):\n",
    "        print(2**i, end=' ')\n",
    "powers(x)"
   ]
  },
  {
   "cell_type": "code",
   "execution_count": null,
   "metadata": {},
   "outputs": [],
   "source": [
    "lst = [3,6,9,12,15]\n",
    "def arithmetic(input):\n",
    "    for i in range(0,len(input)-2):\n",
    "        if input[i+1]-input[i] != input[i+2]-input[i+1]:\n",
    "            return False\n",
    "    return True\n",
    "arithmetic(lst)"
   ]
  },
  {
   "cell_type": "code",
   "execution_count": null,
   "metadata": {},
   "outputs": [],
   "source": [
    "def factorial(n):\n",
    "    if n == 0:\n",
    "        return 1\n",
    "    else:\n",
    "        n = n*factorial(n-1)\n",
    "    return n\n",
    "factorial(7)"
   ]
  },
  {
   "cell_type": "code",
   "execution_count": null,
   "metadata": {},
   "outputs": [],
   "source": [
    "sentence = 'Can i love u anymore'\n",
    "def acronym(input):\n",
    "    input = input.upper()\n",
    "    input = input.split()\n",
    "    acc = []\n",
    "    for word in input:\n",
    "        acc.append(word[0])\n",
    "    res = ''.join(acc)\n",
    "    return res\n",
    "acronym(sentence)"
   ]
  },
  {
   "cell_type": "code",
   "execution_count": null,
   "metadata": {},
   "outputs": [],
   "source": [
    "def divisors(n):\n",
    "    div = []\n",
    "    for i in range(1,n+1):\n",
    "        if n%i == 0:\n",
    "            div.append(i)\n",
    "    return  div\n",
    "divisors(128)"
   ]
  },
  {
   "cell_type": "code",
   "execution_count": null,
   "metadata": {},
   "outputs": [],
   "source": [
    "def xmult(m,n):\n",
    "    res = []\n",
    "    for num in m:\n",
    "        for num_2 in n:\n",
    "            res.append(num*num_2)\n",
    "    return res\n",
    "xmult([3,4,1], [2,0])"
   ]
  },
  {
   "cell_type": "code",
   "execution_count": null,
   "metadata": {},
   "outputs": [],
   "source": [
    "y = [12,11,10,9,8,7,6,5,4,3,2,1]\n",
    "def bubbleSort(x):\n",
    "    l = len(x)\n",
    "    for k in range(0,l):\n",
    "        for i in range(0,l-1-k):\n",
    "            if x[i] > x[i+1]:\n",
    "                x[i], x[i+1] = x[i+1], x[i]\n",
    "    print(x)\n",
    "bubbleSort(y)"
   ]
  },
  {
   "cell_type": "code",
   "execution_count": null,
   "metadata": {},
   "outputs": [],
   "source": [
    "t= [[4,7,2,5],[5,1,9,2],[8,3,6,6]]\n",
    "s= [[0,1,2,0],[0,1,1,1],[0,1,0,0]]\n",
    "def add2D(t,s):\n",
    "    res = t\n",
    "    nrows = len(t)\n",
    "    ncols = len(t[0])\n",
    "    \n",
    "    for i in range(nrows):\n",
    "        for k in range(ncols):\n",
    "            res[i][k] += s[i][k]\n",
    "                \n",
    "    return res\n",
    "\n",
    "add2D(t,s)"
   ]
  },
  {
   "cell_type": "code",
   "execution_count": null,
   "metadata": {},
   "outputs": [],
   "source": [
    "import math\n",
    "def interest(perc):\n",
    "    perc = float(perc)\n",
    "    t = math.log(2, 1+perc)\n",
    "    return math.ceil(t)\n",
    "interest(0.1)"
   ]
  },
  {
   "cell_type": "code",
   "execution_count": null,
   "metadata": {},
   "outputs": [],
   "source": [
    "def intrst(perc):\n",
    "    count = 0\n",
    "    init = 100\n",
    "    while init < 200:\n",
    "        count += 1\n",
    "        init = init*(1+float(perc))\n",
    "    return count\n",
    "intrst(0.07)"
   ]
  },
  {
   "cell_type": "code",
   "execution_count": null,
   "metadata": {},
   "outputs": [],
   "source": [
    "def factorial(n):\n",
    "    if n == 0:\n",
    "        return 1\n",
    "    else:\n",
    "        n = n*factorial(n-1)\n",
    "    return n\n",
    "\n",
    "def approxE(x):\n",
    "    prev = 1\n",
    "    current = 2\n",
    "    i = 2\n",
    "    while current - prev > x:\n",
    "        prev = current\n",
    "        current = current + 1/factorial(i)\n",
    "        i += 1\n",
    "    return current\n",
    "\n",
    "approxE(0.0000001)"
   ]
  },
  {
   "cell_type": "code",
   "execution_count": null,
   "metadata": {},
   "outputs": [],
   "source": [
    "def test(x):\n",
    "    if x < 0:\n",
    "        print('Negative')\n",
    "    elif x == 0:\n",
    "        print('Zero')\n",
    "    else:\n",
    "        print('Positive')\n",
    "test(-3)\n",
    "test(0)\n",
    "test(3)"
   ]
  },
  {
   "cell_type": "code",
   "execution_count": null,
   "metadata": {},
   "outputs": [],
   "source": [
    "x = [3,1,6,2,3,9,7,8,5,4,5]\n",
    "def mult3(x):\n",
    "    for num in x:\n",
    "        if num%3 == 0:\n",
    "            print(num)\n",
    "mult3(x)"
   ]
  },
  {
   "cell_type": "code",
   "execution_count": null,
   "metadata": {},
   "outputs": [],
   "source": [
    "ohayou = 'Hello World!'\n",
    "def vowels(word):\n",
    "    for i in range(len(word)):\n",
    "        if word[i] in 'aiueoAIUEO':\n",
    "            print(i)\n",
    "vowels(ohayou)"
   ]
  },
  {
   "cell_type": "code",
   "execution_count": null,
   "metadata": {},
   "outputs": [],
   "source": [
    "city = 'mississippi'\n",
    "char = 's'\n",
    "def indexes(word, target):\n",
    "    res = []\n",
    "    for i in range(len(word)):\n",
    "        if word[i] == target:\n",
    "            res.append(i)\n",
    "    print(res)\n",
    "indexes(city, char)"
   ]
  },
  {
   "cell_type": "code",
   "execution_count": null,
   "metadata": {},
   "outputs": [],
   "source": [
    "lst = [3,0,1,2,3,6,2,4,5,6,5]\n",
    "def doubles(ye):\n",
    "    for i in range(len(ye)-1):\n",
    "        if ye[i]*2 == ye[i+1]:\n",
    "            print(ye[i+1])\n",
    "doubles(lst)"
   ]
  },
  {
   "cell_type": "code",
   "execution_count": null,
   "metadata": {},
   "outputs": [],
   "source": [
    "lst = ['dog', 'letter', 'stop', 'door', 'bus', 'dust']\n",
    "def four_letter(yo):\n",
    "    res = []\n",
    "    for word in yo:\n",
    "        if len(word)==4:\n",
    "            res.append(word)\n",
    "    print(res)\n",
    "four_letter(lst)"
   ]
  },
  {
   "cell_type": "code",
   "execution_count": null,
   "metadata": {},
   "outputs": [],
   "source": [
    "lst1 = [3,2,5,1,7,9]\n",
    "lst2 = [4,2,6,3,9]\n",
    "def intersect(x,y):\n",
    "    res = []\n",
    "    for num1 in x:\n",
    "        for num2 in y:\n",
    "            if num1 == num2:\n",
    "                res.append(num1)\n",
    "    print(res)\n",
    "intersect(lst1, lst2)"
   ]
  },
  {
   "cell_type": "code",
   "execution_count": null,
   "metadata": {},
   "outputs": [],
   "source": [
    "lst1 = [2,3,4]\n",
    "lst2 = [5,7,9,12]\n",
    "he = 9\n",
    "def pair(x,y,z):\n",
    "    for num1 in x:\n",
    "        for num2 in y:\n",
    "            if num1+num2 == z:\n",
    "                print(str(num1)+' '+str(num2))\n",
    "pair(lst1, lst2, he)"
   ]
  },
  {
   "cell_type": "code",
   "execution_count": null,
   "metadata": {},
   "outputs": [],
   "source": [
    "target = [7,8,5,3,4,6]\n",
    "ha = 11\n",
    "def pairsum(x,y):\n",
    "    for i in range(len(target)):\n",
    "        for j in range(i+1,len(target)):\n",
    "            if x[i]+x[j]==y:\n",
    "                print(str(i), str(j), sep=' ')\n",
    "pairsum(target, ha)"
   ]
  },
  {
   "cell_type": "code",
   "execution_count": null,
   "metadata": {},
   "outputs": [],
   "source": [
    "def pay(hourly, hrs):\n",
    "    if hrs <= 40:\n",
    "        wage = hourly*hrs\n",
    "        return wage\n",
    "    elif hrs > 40 and hourly <=60:\n",
    "        wage = hourly*40 + (hrs-40)*hourly*1.5\n",
    "        return wage\n",
    "    else:\n",
    "        wage = hourly*40 + (hrs-40)*hourly*2\n",
    "        return wage\n",
    "pay(10,61)"
   ]
  },
  {
   "cell_type": "code",
   "execution_count": null,
   "metadata": {},
   "outputs": [],
   "source": [
    "def case(word):\n",
    "    if word[0] in 'ABCDEFGHIJKLMNOPQRSTUVWXYZ':\n",
    "        print('capitalized')\n",
    "    elif word[0] in 'abcdefghijklmnopqerstuvwxyz':\n",
    "        print('not capitalized')\n",
    "    else:\n",
    "        print('unkown')\n",
    "case('3M')\n",
    "case('Sayang')\n",
    "case('hehehehe')"
   ]
  },
  {
   "cell_type": "code",
   "execution_count": null,
   "metadata": {},
   "outputs": [],
   "source": [
    "def leap(year):\n",
    "    if year%400 == 0:\n",
    "        return True\n",
    "    elif year%100 == 0:\n",
    "        return False\n",
    "    elif year%4 == 0:\n",
    "        return True\n",
    "    else:\n",
    "        return False\n",
    "leap(1900)"
   ]
  },
  {
   "cell_type": "code",
   "execution_count": null,
   "metadata": {},
   "outputs": [],
   "source": [
    "def rps(p1, p2):\n",
    "    r = 'R'\n",
    "    s = 'S'\n",
    "    p = 'P'\n",
    "    win = ((r,s), (s,p), (p,r))\n",
    "    tie = ((r,r), (s,s), (p,p))\n",
    "    lose = ((s,r), (p,s), (r,p))\n",
    "    pair = (p1,p2)\n",
    "    if pair in win:\n",
    "        print(1)\n",
    "    elif pair in tie:\n",
    "        print(0)\n",
    "    elif pair in lose:\n",
    "        print(-1)\n",
    "    else:\n",
    "        print('unkown error')\n",
    "rps('R', 'R')"
   ]
  },
  {
   "cell_type": "code",
   "execution_count": null,
   "metadata": {},
   "outputs": [],
   "source": [
    "def letter2number(grade):\n",
    "    value = 'FDCBA'.index(grade[0])\n",
    "    if grade[1] == None:\n",
    "        pass\n",
    "    else:\n",
    "        if grade[1] == '+':\n",
    "            value = value + 0.3\n",
    "        elif grade[1] == '-':\n",
    "            value = value - 0.3\n",
    "        print(value)\n",
    "letter2number('B-')"
   ]
  },
  {
   "cell_type": "code",
   "execution_count": null,
   "metadata": {},
   "outputs": [],
   "source": [
    "yo = [2,4,8,16,32,64,128,256]\n",
    "def geometric(lst):\n",
    "    for i in range(len(yo)-2):\n",
    "        if lst[i+1]/lst[i] == lst[i+2]/lst[i+1]:\n",
    "            pass\n",
    "        else:\n",
    "            return False\n",
    "    return True\n",
    "geometric(yo)"
   ]
  },
  {
   "cell_type": "code",
   "execution_count": null,
   "metadata": {},
   "outputs": [],
   "source": [
    "ye = ['Gerber, Len', 'Fox, Kate', 'Dunn, Bob']\n",
    "def lastfirst(lst):\n",
    "    res = []\n",
    "    first = []\n",
    "    last = []\n",
    "    for pair in lst:\n",
    "        full_name = pair.split(',')\n",
    "        first.append(full_name[0])\n",
    "        last.append(full_name[1])\n",
    "    res.append(first)\n",
    "    res.append(last)\n",
    "    return res\n",
    "lastfirst(ye)"
   ]
  },
  {
   "cell_type": "code",
   "execution_count": null,
   "metadata": {},
   "outputs": [],
   "source": [
    "yaho = 'example.txt'\n",
    "def many(filename):\n",
    "    \n",
    "    infile = open(filename, 'r')\n",
    "    content = infile.read()\n",
    "    infile.close()\n",
    "    content = content.split()\n",
    "    \n",
    "    len_1 = 0\n",
    "    len_2 = 0\n",
    "    len_3 = 0\n",
    "    len_4 = 0\n",
    "    \n",
    "    for word in content:\n",
    "        if len(word) == 1:\n",
    "            len_1 += 1\n",
    "        elif len(word) == 2:\n",
    "            len_2 += 1\n",
    "        elif len(word) == 3:\n",
    "            len_3 += 1\n",
    "        elif len(word) == 4:\n",
    "            len_4 += 1\n",
    "    \n",
    "    print('Word of length 1: '+str(len_1))\n",
    "    print('Word of length 2: '+str(len_2))\n",
    "    print('Word of length 3: '+str(len_3))\n",
    "    print('Word of length 4: '+str(len_4))\n",
    "many(yaho)"
   ]
  },
  {
   "cell_type": "code",
   "execution_count": null,
   "metadata": {},
   "outputs": [],
   "source": [
    "lala = [5,4,10,20,15,19]\n",
    "target1 = 38\n",
    "target2 = 10\n",
    "\n",
    "def subsetSum(src, trgt):\n",
    "    length = len(src)\n",
    "    for i in range(length):\n",
    "        for j in range(i+1, length):\n",
    "            for k in range(j+1, length):\n",
    "                if src[i]+src[j]+src[k] == trgt:\n",
    "                    return True\n",
    "    return False\n",
    "\n",
    "subsetSum(lala,target2)"
   ]
  },
  {
   "cell_type": "code",
   "execution_count": null,
   "metadata": {},
   "outputs": [],
   "source": [
    "def fib(n):\n",
    "    prev = 1\n",
    "    current = 1\n",
    "    \n",
    "    if n == 0 or n == 1:\n",
    "        return 1\n",
    "    else:\n",
    "        for i in range(2,n+1):\n",
    "            current, prev = current+prev, current\n",
    "        return current\n",
    "\n",
    "fib(8)"
   ]
  },
  {
   "cell_type": "code",
   "execution_count": null,
   "metadata": {},
   "outputs": [],
   "source": [
    "def mystery(num):\n",
    "    count = -1\n",
    "    while num >= 1:\n",
    "        num = num/2\n",
    "        count += 1\n",
    "    print(count)\n",
    "mystery(4)\n",
    "mystery(11)\n",
    "mystery(25)\n",
    "mystery(64)"
   ]
  },
  {
   "cell_type": "code",
   "execution_count": null,
   "metadata": {},
   "outputs": [],
   "source": [
    "zz = [30.95, -15.67, 45.56, -55.00, 43.78]\n",
    "def statement(stat):\n",
    "    deposits = []\n",
    "    withdraw = []\n",
    "    for num in stat:\n",
    "        if num > 0:\n",
    "            deposits.append(num)\n",
    "        elif num < 0:\n",
    "            withdraw.append(num)\n",
    "    res = [sum(deposits), sum(withdraw)]\n",
    "    print(res)\n",
    "statement(zz)\n",
    "        "
   ]
  },
  {
   "cell_type": "code",
   "execution_count": null,
   "metadata": {},
   "outputs": [],
   "source": [
    "def pixels(pix):\n",
    "    count = 0\n",
    "    for row in pix:\n",
    "        for num in row:\n",
    "            if num > 0:\n",
    "                count += 1\n",
    "    print(count)\n",
    "a = [[0,156,0,0], [34,0,0,0],[23,123,0,34]]\n",
    "b = [[123,56,255], [34,0,0], [23,123,0], [3,0,0]]\n",
    "pixels(a)\n",
    "pixels(b)"
   ]
  },
  {
   "cell_type": "code",
   "execution_count": null,
   "metadata": {},
   "outputs": [],
   "source": [
    "def collatz(x):\n",
    "    while x != 1:\n",
    "        if x%2 == 0:\n",
    "            x = x/2\n",
    "            print(int(x))\n",
    "        else:\n",
    "            x = 3*x+1\n",
    "            print(int(x))\n",
    "collatz(99)\n",
    "collatz(15)\n"
   ]
  },
  {
   "cell_type": "code",
   "execution_count": null,
   "metadata": {},
   "outputs": [],
   "source": [
    "str1 = 'argh'\n",
    "str2 = 'hello'\n",
    "def exclamation(string):\n",
    "    res = []\n",
    "    for char in string:\n",
    "        if char in 'aiueoAIUEO':\n",
    "            for i in range(4):\n",
    "                res.append(char)\n",
    "        else:\n",
    "            res.append(char)\n",
    "    final = ''.join(res)\n",
    "    return final\n",
    "exclamation(str2)\n",
    "        "
   ]
  },
  {
   "cell_type": "code",
   "execution_count": null,
   "metadata": {},
   "outputs": [],
   "source": [
    "def approxPi(x):\n",
    "    current = 4 - 4/3\n",
    "    prev = 4\n",
    "    i = 3\n",
    "    while abs(current - prev) > x:\n",
    "        prev = current\n",
    "        current = current + 4*((-1)**(i-1))/(2*i-1)\n",
    "        i += 1\n",
    "    print(current)\n",
    "approxPi(0.01)\n",
    "approxPi(0.0000001)"
   ]
  },
  {
   "cell_type": "code",
   "execution_count": null,
   "metadata": {},
   "outputs": [],
   "source": [
    "def poly(coef, val):\n",
    "    deg = 0\n",
    "    res = []\n",
    "    for co in coef:\n",
    "        res.append(co*val**deg)\n",
    "        deg += 1\n",
    "    print(sum(res))\n",
    "poly([1,2,1],2)\n",
    "poly([1,0,1,0,1],2)\n",
    "poly([1,0,1,0,1], 3)"
   ]
  },
  {
   "cell_type": "code",
   "execution_count": null,
   "metadata": {},
   "outputs": [],
   "source": [
    "def primeFac(num):\n",
    "    res = []\n",
    "    for i in range(2,num+1):\n",
    "        while num%i == 0:\n",
    "            res.append(i)\n",
    "            num = num/i\n",
    "    print(res)\n",
    "primeFac(5)\n",
    "primeFac(72)\n",
    "primeFac(128)"
   ]
  },
  {
   "cell_type": "code",
   "execution_count": null,
   "metadata": {},
   "outputs": [],
   "source": [
    "def evenrow(inp):\n",
    "    for row in inp:\n",
    "        if sum(row)%2 == 1:\n",
    "            return False\n",
    "    return True\n",
    "# evenrow([[1,3],[2,4],[0,6]])\n",
    "# evenrow([[1,3,2],[3,4,7],[0,6,2]])\n",
    "evenrow([[1,3,2], [3,4,7], [0,5,2]])"
   ]
  },
  {
   "cell_type": "code",
   "execution_count": null,
   "metadata": {},
   "outputs": [],
   "source": [
    "key = '3941068257'\n",
    "msg1 = '132'\n",
    "msg2 = '111'\n",
    "def encrypt(key, msg):\n",
    "    res = ''\n",
    "    for i in range(len(msg)):\n",
    "        enc = key[int(msg[i])]\n",
    "        res = res + enc\n",
    "    print(res)\n",
    "encrypt(key,msg1)\n",
    "encrypt(key,msg2)\n",
    "encrypt(key, '9873216357281254')"
   ]
  },
  {
   "cell_type": "code",
   "execution_count": null,
   "metadata": {},
   "outputs": [],
   "source": [
    "grade = [[95,92,86], [66,75,54], [89,72,100], [34,0,0]]\n",
    "\n",
    "def avgavg(grades):\n",
    "    cntr = []\n",
    "    for row in grades:\n",
    "        cntr.append(sum(row)/len(row))\n",
    "    print(cntr)\n",
    "    print(sum(cntr)/len(cntr))\n",
    "\n",
    "avgavg(grade)"
   ]
  },
  {
   "cell_type": "code",
   "execution_count": null,
   "metadata": {},
   "outputs": [],
   "source": [
    "a = 'AABFHDL'\n",
    "b = 'ABCD'\n",
    "c = 'DCBA'\n",
    "def inversion(x):\n",
    "    chars = 'ABCDEFGHIJKLMNOPQRSTUVWYXZ'\n",
    "    count = 0\n",
    "    for i in range(len(x)):\n",
    "        for j in range(i+1,len(x)):\n",
    "            if chars.index(x[i]) > chars.index(x[j]):\n",
    "                count += 1\n",
    "    print(count)\n",
    "inversion(a)\n",
    "inversion(b)\n",
    "inversion(c)"
   ]
  },
  {
   "cell_type": "code",
   "execution_count": null,
   "metadata": {},
   "outputs": [],
   "source": [
    "def d2x(value, base):\n",
    "    \n",
    "    #find digits num for converted value\n",
    "    digits = 1\n",
    "    while base**digits < value:\n",
    "        digits += 1\n",
    "    \n",
    "    res = ''\n",
    "    \n",
    "    #convert\n",
    "    for i in range(1,digits+1):\n",
    "        num = value//base**(digits-i)\n",
    "        res = res+str(num)\n",
    "        value = value - num*base**(digits-i)\n",
    "    \n",
    "    print(res)\n",
    "d2x(10,2)\n",
    "d2x(10,3)\n",
    "d2x(10,8)"
   ]
  },
  {
   "cell_type": "code",
   "execution_count": 9,
   "metadata": {},
   "outputs": [
    {
     "data": {
      "text/plain": [
       "False"
      ]
     },
     "execution_count": 9,
     "metadata": {},
     "output_type": "execute_result"
    }
   ],
   "source": [
    "lst1 = [15,1,100]\n",
    "lst2 = [15,50,20]\n",
    "lstlst = [20,15,30,50,1,100]\n",
    "\n",
    "def increase(val):\n",
    "    for i in range(len(val)-1):\n",
    "        if val[i]>val[i+1]:\n",
    "            return False\n",
    "    return True\n",
    "\n",
    "def sublist(sub,lst):\n",
    "    res = []\n",
    "    for el in sub:\n",
    "        if el in lst:\n",
    "            res.append(lst.index(el))\n",
    "        else:\n",
    "            return 'input is not subset of list'\n",
    "    return increase(res)\n",
    "\n",
    "sublist(lst2,lstlst)"
   ]
  },
  {
   "cell_type": "code",
   "execution_count": 15,
   "metadata": {},
   "outputs": [
    {
     "name": "stdout",
     "output_type": "stream",
     "text": [
      "2.05\n",
      "2.000000000000002\n"
     ]
    }
   ],
   "source": [
    "def heron(n, E):\n",
    "    current = 1\n",
    "    prev = 0\n",
    "    while abs(current-prev) >= E:\n",
    "        prev = current\n",
    "        current = (current+(n/current))/2\n",
    "    print(current)\n",
    "heron(4,0.5)\n",
    "heron(4,0.0001)"
   ]
  },
  {
   "cell_type": "code",
   "execution_count": null,
   "metadata": {},
   "outputs": [],
   "source": []
  }
 ],
 "metadata": {
  "kernelspec": {
   "display_name": "Python 3",
   "language": "python",
   "name": "python3"
  },
  "language_info": {
   "codemirror_mode": {
    "name": "ipython",
    "version": 3
   },
   "file_extension": ".py",
   "mimetype": "text/x-python",
   "name": "python",
   "nbconvert_exporter": "python",
   "pygments_lexer": "ipython3",
   "version": "3.8.3"
  }
 },
 "nbformat": 4,
 "nbformat_minor": 4
}
