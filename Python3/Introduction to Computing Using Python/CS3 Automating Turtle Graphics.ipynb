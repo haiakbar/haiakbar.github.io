{
 "cells": [
  {
   "cell_type": "code",
   "execution_count": 1,
   "metadata": {
    "scrolled": true
   },
   "outputs": [],
   "source": [
    "import turtle\n",
    "s = turtle.Screen()\n",
    "t = turtle.Turtle()\n",
    "\n"
   ]
  },
  {
   "cell_type": "code",
   "execution_count": 2,
   "metadata": {},
   "outputs": [],
   "source": [
    "def jump(t, x, y):\n",
    "    t.penup()\n",
    "    t.goto(x,y)\n",
    "    t.pendown()"
   ]
  },
  {
   "cell_type": "code",
   "execution_count": null,
   "metadata": {},
   "outputs": [],
   "source": [
    "def olympic(t):\n",
    "    t.pensize(3)\n",
    "    jump(t,0,0)\n",
    "    t.setheading(0)\n",
    "    \n",
    "    t.circle(100)\n",
    "    \n",
    "    jump(t, 220, 0)\n",
    "    t.circle(100)\n",
    "    \n",
    "    jump(t,-220,0)\n",
    "    t.circle(100)\n",
    "    \n",
    "    jump(t,110,-100)\n",
    "    t.circle(100)\n",
    "    \n",
    "    jump(t,-110,-100)\n",
    "    t.circle(100)\n",
    "\n",
    "olympic(t)"
   ]
  },
  {
   "cell_type": "code",
   "execution_count": null,
   "metadata": {},
   "outputs": [],
   "source": [
    "def polygon(x):\n",
    "    t.pensize(3)\n",
    "    jump(t,-50,0)\n",
    "    t.setheading(0)\n",
    "    \n",
    "    for i in range(0,x):\n",
    "        t.forward(100)\n",
    "        turn = 360/x\n",
    "        t.left(turn)\n",
    "        \n",
    "x = eval(input('Please enter number of polygon side: '))\n",
    "if x<3:\n",
    "    print('Input should not be less than 3')\n",
    "else:\n",
    "    polygon(x)"
   ]
  },
  {
   "cell_type": "code",
   "execution_count": null,
   "metadata": {},
   "outputs": [],
   "source": [
    "def grid(m,n):\n",
    "    jump(t,-200,-200)\n",
    "    t.setheading(0)\n",
    "    #Create outline of the table\n",
    "    for i in range(0,4):\n",
    "        t.forward(400)\n",
    "        t.left(90)\n",
    "    \n",
    "    #Create columns of the table\n",
    "    for i in range(1,m):\n",
    "        x_postition = -200 + 400*i/m\n",
    "        jump(t, x_postition, 200)\n",
    "        t.setheading(-90)\n",
    "        t.forward(400)\n",
    "        \n",
    "    #Create rows of the table\n",
    "    for i in range(1,n):\n",
    "        t.setheading(0)\n",
    "        y_postition = -200 + 400*i/n\n",
    "        jump(t, -200, y_postition)\n",
    "        t.forward(400)\n",
    "\n",
    "m = eval(input('Please enter number of columns: '))\n",
    "n = eval(input('Please enter number of rows: '))\n",
    "grid(m,n)"
   ]
  },
  {
   "cell_type": "code",
   "execution_count": 3,
   "metadata": {},
   "outputs": [],
   "source": [
    "def planets():\n",
    "    mercury = turtle.Turtle(shape='circle')\n",
    "    venus = turtle.Turtle(shape='circle')\n",
    "    earth = turtle.Turtle(shape='circle')\n",
    "    mars = turtle.Turtle(shape='circle')\n",
    "       \n",
    "    mercury_radius = 58\n",
    "    venus_radius = 108\n",
    "    earth_radius = 150\n",
    "    mars_radius = 228\n",
    "        \n",
    "    #set initial postition\n",
    "    jump(mercury, 0, -mercury_radius)\n",
    "    mercury.setheading(0)\n",
    "    jump(venus, 0, -venus_radius)\n",
    "    venus.setheading(0)\n",
    "    jump(earth, 0, -earth_radius)\n",
    "    earth.setheading(0)\n",
    "    jump(mars, 0, -mars_radius)\n",
    "    mars.setheading(0)\n",
    "    \n",
    "    #move planets\n",
    "    mercury.circle(mercury_radius)\n",
    "    venus.circle(venus_radius)\n",
    "    earth.circle(earth_radius)\n",
    "    mars.circle(mars_radius)\n",
    "\n",
    "planets()"
   ]
  },
  {
   "cell_type": "code",
   "execution_count": 4,
   "metadata": {},
   "outputs": [
    {
     "data": {
      "text/plain": [
       "<bound method _Screen.bye of <turtle._Screen object at 0x7f4b74265460>>"
      ]
     },
     "execution_count": 4,
     "metadata": {},
     "output_type": "execute_result"
    }
   ],
   "source": [
    "s.bye"
   ]
  },
  {
   "cell_type": "code",
   "execution_count": 5,
   "metadata": {},
   "outputs": [],
   "source": [
    "s.bye()"
   ]
  }
 ],
 "metadata": {
  "kernelspec": {
   "display_name": "Python 3",
   "language": "python",
   "name": "python3"
  },
  "language_info": {
   "codemirror_mode": {
    "name": "ipython",
    "version": 3
   },
   "file_extension": ".py",
   "mimetype": "text/x-python",
   "name": "python",
   "nbconvert_exporter": "python",
   "pygments_lexer": "ipython3",
   "version": "3.8.3"
  }
 },
 "nbformat": 4,
 "nbformat_minor": 4
}
