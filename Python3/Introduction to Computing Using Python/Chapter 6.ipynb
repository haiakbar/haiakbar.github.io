{
 "cells": [
  {
   "cell_type": "code",
   "execution_count": 1,
   "metadata": {},
   "outputs": [
    {
     "name": "stdout",
     "output_type": "stream",
     "text": [
      "Hawaii\n"
     ]
    }
   ],
   "source": [
    "anjay = {'Barack Hussein Obama II':'Hawaii','George Walker Bush':'Connecticut', \n",
    "         'William Jefferson Clinton':'Arkansas','George Herbert Walker Bush':'Massachussetts', \n",
    "         'Ronald Wilson Reagan':'Illinois', 'James Earl Carter, Jr':'Georgia'}\n",
    "def birthState(name):\n",
    "    if name in anjay:\n",
    "        print(anjay[name])\n",
    "    else:\n",
    "        print('name not found!')\n",
    "\n",
    "birthState('Barack Hussein Obama II')"
   ]
  },
  {
   "cell_type": "code",
   "execution_count": 2,
   "metadata": {},
   "outputs": [
    {
     "name": "stdout",
     "output_type": "stream",
     "text": [
      "Enter phone number in the format (xxx)xxx-xx-xx: (123)456-78-90\n",
      "['Anna', 'Karenina']\n"
     ]
    }
   ],
   "source": [
    "rphonebook = {'(123)456-78-90':['Anna', 'Karenina'], '(901)234-56-78':['Yu','Tsun'],\n",
    "              '(321)908-76-54':['Hans', 'Castorp']}\n",
    "\n",
    "def rlookup(phobook):\n",
    "    key = input('Enter phone number in the format (xxx)xxx-xx-xx: ')\n",
    "    if key in phobook:\n",
    "        print(phobook[key])\n",
    "    else:\n",
    "        print('The number you entered is not in use')\n",
    "rlookup(rphonebook)"
   ]
  },
  {
   "cell_type": "code",
   "execution_count": 5,
   "metadata": {},
   "outputs": [
    {
     "name": "stdout",
     "output_type": "stream",
     "text": [
      "all        appears 1 times\n",
      "animals    appears 2 times\n",
      "are        appears 2 times\n",
      "equal      appears 2 times\n",
      "but        appears 1 times\n",
      "some       appears 1 times\n",
      "/          appears 1 times\n",
      "more       appears 1 times\n",
      "than       appears 1 times\n",
      "others     appears 1 times\n"
     ]
    }
   ],
   "source": [
    "text = 'all animals are equal but some / animals are more equal than others'\n",
    "def wordCount(text):\n",
    "    text = text.split()\n",
    "    word_count = {}\n",
    "    for word in text:\n",
    "        if word in word_count:\n",
    "            word_count[word] += 1\n",
    "        else:\n",
    "            word_count[word] = 1\n",
    "    \n",
    "    for word2 in word_count:\n",
    "        result = '{:10} appears {} times'.format(word2, word_count[word2])\n",
    "        print(result)\n",
    "wordCount(text)\n",
    "        "
   ]
  },
  {
   "cell_type": "code",
   "execution_count": 6,
   "metadata": {},
   "outputs": [
    {
     "name": "stdout",
     "output_type": "stream",
     "text": [
      "Enter the first name: Anna\n",
      "Enter the last name: Karenina\n",
      "(123)456-78-90\n"
     ]
    }
   ],
   "source": [
    "phonebook = {('Anna', 'Karenina'):'(123)456-78-90',('Yu', 'Tsun'):'(901)234-56-78',\n",
    "            ('Hans', 'Castorp'):'(321)908-76-54'}\n",
    "def lookup(phobook):\n",
    "    first_name = input('Enter the first name: ')\n",
    "    last_name = input('Enter the last name: ')\n",
    "    full_name = (first_name, last_name)\n",
    "    if full_name in phobook:\n",
    "        print(phobook.get(full_name))\n",
    "    else:\n",
    "        print('no such name!')\n",
    "\n",
    "lookup(phonebook)"
   ]
  },
  {
   "cell_type": "code",
   "execution_count": 14,
   "metadata": {},
   "outputs": [
    {
     "data": {
      "text/plain": [
       "{'123-45-67', '234-56-78', '345-67-89', '456-78-90'}"
      ]
     },
     "execution_count": 14,
     "metadata": {},
     "output_type": "execute_result"
    }
   ],
   "source": [
    "phonebook1 = {'123-45-67', '234-56-78', '345-67-89'}\n",
    "phonebook2 = set()\n",
    "phonebook3 = {'456-78-90', '345-67-89'}\n",
    "phonebook4 = {'234-56-78', '456-78-90'}\n",
    "phonebooks = [phonebook1, phonebook2, phonebook3, phonebook4]\n",
    "def sync(var):\n",
    "    res = set()\n",
    "    for num in var:\n",
    "        res = res | num\n",
    "    return res\n",
    "sync(phonebooks)"
   ]
  },
  {
   "cell_type": "code",
   "execution_count": 15,
   "metadata": {},
   "outputs": [
    {
     "name": "stdout",
     "output_type": "stream",
     "text": [
      "Please enter the word: yeaay\n",
      "Char     Decimal  Hex      Binary  \n",
      "y             121 0x79     0b1111001\n",
      "e             101 0x65     0b1100101\n",
      "a              97 0x61     0b1100001\n",
      "a              97 0x61     0b1100001\n",
      "y             121 0x79     0b1111001\n"
     ]
    }
   ],
   "source": [
    "var = input('Please enter the word: ')\n",
    "def encoding(var):\n",
    "    header = '{:8} {:8} {:8} {:8}'.format('Char', 'Decimal', 'Hex', 'Binary')\n",
    "    print(header)\n",
    "    for i in range(len(var)):\n",
    "        dec = ord(var[i])\n",
    "        he = hex(dec)\n",
    "        bi = bin(dec)\n",
    "        form = '{:8} {:8} {:8} {:8}'.format(var[i], dec, he, bi)\n",
    "        print(form)\n",
    "encoding(var)"
   ]
  },
  {
   "cell_type": "code",
   "execution_count": 17,
   "metadata": {},
   "outputs": [
    {
     "name": "stdout",
     "output_type": "stream",
     "text": [
      "  62: >\n",
      "  63: ?\n",
      "  64: @\n",
      "  65: A\n",
      "  66: B\n",
      "  67: C\n",
      "  68: D\n",
      "  69: E\n",
      "  70: F\n"
     ]
    }
   ],
   "source": [
    "def char(low,high):\n",
    "    for i in range(low, high+1):\n",
    "        form = '{:4}: {}'.format(i,chr(i))\n",
    "        print(form)\n",
    "char(62, 70)"
   ]
  },
  {
   "cell_type": "code",
   "execution_count": 22,
   "metadata": {},
   "outputs": [
    {
     "name": "stdout",
     "output_type": "stream",
     "text": [
      "Enter your guess: 25\n",
      "Too low\n",
      "Enter your guess: 37\n",
      "You got it!\n"
     ]
    }
   ],
   "source": [
    "import random\n",
    "def guess(num):\n",
    "    nu = random.randrange(num)\n",
    "    user = int(input('Enter your guess: '))\n",
    "    while user != nu:\n",
    "        if user > nu:\n",
    "            print('Too high')\n",
    "            user = int(input('Enter your guess: '))\n",
    "        elif user < nu:\n",
    "            print('Too low')\n",
    "            user = int(input('Enter your guess: '))\n",
    "    print('You got it!')\n",
    "guess(50)"
   ]
  },
  {
   "cell_type": "code",
   "execution_count": 17,
   "metadata": {},
   "outputs": [
    {
     "data": {
      "text/plain": [
       "3.1425068"
      ]
     },
     "execution_count": 17,
     "metadata": {},
     "output_type": "execute_result"
    }
   ],
   "source": [
    "import random\n",
    "def approxPi(n):\n",
    "    k = 0\n",
    "    for i in range(n):\n",
    "        x_value = random.uniform(0,2)\n",
    "        y_value = random.uniform(0,2)\n",
    "        if (x_value-1)**2 + (y_value-1)**2 <= 1:\n",
    "            k += 1\n",
    "    pi = 4*k/n\n",
    "    return pi\n",
    "approxPi(10000000)"
   ]
  },
  {
   "cell_type": "code",
   "execution_count": 21,
   "metadata": {},
   "outputs": [
    {
     "data": {
      "text/plain": [
       "'YPP'"
      ]
     },
     "execution_count": 21,
     "metadata": {},
     "output_type": "execute_result"
    }
   ],
   "source": [
    "def easyCrypto(enc):\n",
    "    index = 'abcdefghijklmnopqrstuvwxyzABCDEFGHIJKLMNOPQRSTUVWXYZ'\n",
    "    res = []\n",
    "    for char in enc:\n",
    "        i = index.index(char)\n",
    "        if i%2 == 0:\n",
    "            res.append(index[i+1])\n",
    "        else:\n",
    "            res.append(index[i-1])\n",
    "    return ''.join(res)\n",
    "easyCrypto('ZOO')\n",
    "    "
   ]
  },
  {
   "cell_type": "code",
   "execution_count": 8,
   "metadata": {},
   "outputs": [
    {
     "data": {
      "text/plain": [
       "'Spkpmhlbsblbmobcbcjqjmzbbb'"
      ]
     },
     "execution_count": 8,
     "metadata": {},
     "output_type": "execute_result"
    }
   ],
   "source": [
    "def generateKey():\n",
    "    key = {}\n",
    "    lower = 'abcdefghijklmnopqrstuvwxyz'\n",
    "    upper = 'ABCDEFGHIJKLMNOPQRSTUVWXYZ'\n",
    "    for char in lower:\n",
    "        if lower.index(char)%2 == 0:\n",
    "            key[char]=lower[(lower.index(char)+1)%26]\n",
    "        else:\n",
    "            key[char]=lower[(lower.index(char)-1)%26]\n",
    "    for char in upper:\n",
    "        if upper.index(char)%2 == 0:\n",
    "            key[char]=upper[(upper.index(char)+1)%26]\n",
    "        else:\n",
    "            key[char]=upper[(upper.index(char)-1)%26]\n",
    "    return key\n",
    "\n",
    "def easierCrypto(msg):\n",
    "    enc = generateKey()\n",
    "    res = []\n",
    "    for char in msg:\n",
    "        res.append(enc[char])\n",
    "    return ''.join(res)\n",
    "\n",
    "easierCrypto('Tolongkatakanpadadirinyaaa')"
   ]
  },
  {
   "cell_type": "code",
   "execution_count": 12,
   "metadata": {},
   "outputs": [
    {
     "name": "stdout",
     "output_type": "stream",
     "text": [
      "dict_keys(['CCC', 'FCC', 'FDIC', 'SSB', 'WPA'])\n",
      "dict_keys(['CCC', 'FCC', 'FDIC', 'SSB', 'WPA', 'SEC'])\n",
      "dict_keys(['CCC', 'FCC', 'FDIC', 'SSB', 'WPA', 'SEC'])\n",
      "dict_keys(['FCC', 'FDIC', 'SSB', 'SEC'])\n"
     ]
    }
   ],
   "source": [
    "agencies = {\n",
    "    'CCC':'Civilian Conservation Corps',\n",
    "    'FCC':'Federal Communication Commision',\n",
    "    'FDIC':'Federal Deposit Insurance Corporation',\n",
    "    'SSB':'Social Security Board',\n",
    "    'WPA':'Works Progress Administration'\n",
    "}\n",
    "print(agencies.keys())\n",
    "agencies['SEC'] = 'Securities and Exchange Commission'\n",
    "print(agencies.keys())\n",
    "agencies['SSB'] = 'Social Security Administration'\n",
    "print(agencies.keys())\n",
    "agencies.pop('CCC')\n",
    "agencies.pop('WPA')\n",
    "print(agencies.keys())"
   ]
  },
  {
   "cell_type": "code",
   "execution_count": 17,
   "metadata": {},
   "outputs": [
    {
     "name": "stdout",
     "output_type": "stream",
     "text": [
      "{3, 6, 9, 12, 15, 18, 21, 24, 27, 30, 33, 36, 39, 42, 45, 48, 51, 54, 57, 60, 63, 66, 69, 72, 75, 78, 81, 84, 87, 90, 93, 96, 99}\n",
      "{5, 10, 15, 20, 25, 30, 35, 40, 45, 50, 55, 60, 65, 70, 75, 80, 85, 90, 95}\n",
      "{98, 35, 70, 7, 42, 77, 14, 49, 84, 21, 56, 91, 28, 63}\n",
      "{42, 84, 21, 63}\n",
      "{75, 45, 15, 90, 60, 30}\n",
      "{3, 6, 7, 9, 12, 14, 15, 18, 21, 24, 27, 28, 30, 33, 35, 36, 39, 42, 45, 48, 49, 51, 54, 56, 57, 60, 63, 66, 69, 70, 72, 75, 77, 78, 81, 84, 87, 90, 91, 93, 96, 98, 99}\n",
      "{3, 6, 7, 9, 12, 14, 15, 18, 24, 27, 28, 30, 33, 35, 36, 39, 45, 48, 49, 51, 54, 56, 57, 60, 66, 69, 70, 72, 75, 77, 78, 81, 87, 90, 91, 93, 96, 98, 99}\n",
      "{98, 35, 70, 7, 77, 14, 49, 56, 91, 28}\n"
     ]
    }
   ],
   "source": [
    "mult3 = set()\n",
    "mult5 = set()\n",
    "mult7 = set()\n",
    "for i in range(3,100,3):\n",
    "    mult3.add(i)\n",
    "for i in range(5,100,5):\n",
    "    mult5.add(i)\n",
    "for i in range(7,100,7):\n",
    "    mult7.add(i)\n",
    "mult35 = mult3 & mult7\n",
    "mult105 = mult3 & mult5 & mult5\n",
    "mult37 = mult3 | mult7\n",
    "mult37nb = (mult3|mult7)-(mult3&mult7)\n",
    "mult73 = mult7 - mult3\n",
    "print(mult3)\n",
    "print(mult5)\n",
    "print(mult7)\n",
    "print(mult35)\n",
    "print(mult105)\n",
    "print(mult37)\n",
    "print(mult37nb)\n",
    "print(mult73)"
   ]
  },
  {
   "cell_type": "code",
   "execution_count": 19,
   "metadata": {},
   "outputs": [
    {
     "data": {
      "text/plain": [
       "{'a': '0x61',\n",
       " 'b': '0x62',\n",
       " 'c': '0x63',\n",
       " 'd': '0x64',\n",
       " 'e': '0x65',\n",
       " 'f': '0x66',\n",
       " 'g': '0x67',\n",
       " 'h': '0x68',\n",
       " 'i': '0x69',\n",
       " 'j': '0x6a',\n",
       " 'k': '0x6b',\n",
       " 'l': '0x6c',\n",
       " 'm': '0x6d',\n",
       " 'n': '0x6e',\n",
       " 'o': '0x6f',\n",
       " 'p': '0x70',\n",
       " 'q': '0x71',\n",
       " 'r': '0x72',\n",
       " 's': '0x73',\n",
       " 't': '0x74',\n",
       " 'u': '0x75',\n",
       " 'v': '0x76',\n",
       " 'w': '0x77',\n",
       " 'x': '0x78',\n",
       " 'y': '0x79',\n",
       " 'z': '0x7a'}"
      ]
     },
     "execution_count": 19,
     "metadata": {},
     "output_type": "execute_result"
    }
   ],
   "source": [
    "def hexASCII():\n",
    "    res = {}\n",
    "    lower = 'abcdefghijklmnopqrstuvwxyz'\n",
    "    for char in lower:\n",
    "        res[char] = hex(ord(char))\n",
    "    return res\n",
    "\n",
    "hexASCII()"
   ]
  },
  {
   "cell_type": "code",
   "execution_count": 20,
   "metadata": {},
   "outputs": [
    {
     "name": "stdout",
     "output_type": "stream",
     "text": [
      "Tails\n",
      "Head\n",
      "Tails\n",
      "Tails\n",
      "Tails\n",
      "Tails\n",
      "Tails\n",
      "Head\n",
      "Head\n",
      "Tails\n",
      "Tails\n",
      "Head\n",
      "Tails\n",
      "Tails\n",
      "Tails\n",
      "Head\n",
      "Head\n",
      "Tails\n",
      "Head\n",
      "Head\n"
     ]
    }
   ],
   "source": [
    "import random\n",
    "def coin():\n",
    "    key = random.randrange(1,3)\n",
    "    if key == 1:\n",
    "        print('Head')\n",
    "    elif key == 2:\n",
    "        print('Tails')\n",
    "    else:\n",
    "        print('Something\\'s wrong but I don\\'t know why')\n",
    "for i in range(20):\n",
    "    coin()"
   ]
  },
  {
   "cell_type": "code",
   "execution_count": 22,
   "metadata": {},
   "outputs": [
    {
     "name": "stdout",
     "output_type": "stream",
     "text": [
      "Barack Hussein Obama II\n",
      "George Walker Bush\n",
      "William Jefferson Clinton\n",
      "George Herbert Walker Bush\n",
      "Ronald Wilson Reagan\n",
      "James Earl Carter, Jr\n"
     ]
    },
    {
     "data": {
      "text/plain": [
       "{'Hawaii': 'Barack Hussein Obama II',\n",
       " 'Connecticut': 'George Walker Bush',\n",
       " 'Arkansas': 'William Jefferson Clinton',\n",
       " 'Massachussetts': 'George Herbert Walker Bush',\n",
       " 'Illinois': 'Ronald Wilson Reagan',\n",
       " 'Georgia': 'James Earl Carter, Jr'}"
      ]
     },
     "execution_count": 22,
     "metadata": {},
     "output_type": "execute_result"
    }
   ],
   "source": [
    "anjay = {'Barack Hussein Obama II':'Hawaii','George Walker Bush':'Connecticut', \n",
    "         'William Jefferson Clinton':'Arkansas','George Herbert Walker Bush':'Massachussetts', \n",
    "         'Ronald Wilson Reagan':'Illinois', 'James Earl Carter, Jr':'Georgia'}\n",
    "def reverse(inp):\n",
    "    res = {}\n",
    "    for item in inp:\n",
    "        print(item)\n",
    "        res[inp[item]] = item\n",
    "    return res\n",
    "reverse(anjay)"
   ]
  },
  {
   "cell_type": "code",
   "execution_count": 38,
   "metadata": {},
   "outputs": [
    {
     "name": "stdout",
     "output_type": "stream",
     "text": [
      "Enter Company Name; Bank BRI\n"
     ]
    },
    {
     "data": {
      "text/plain": [
       "'BBRI'"
      ]
     },
     "execution_count": 38,
     "metadata": {},
     "output_type": "execute_result"
    }
   ],
   "source": [
    "def constructor(filename):\n",
    "    stock = {\n",
    "        \n",
    "    }\n",
    "    infile = open(filename, 'r')\n",
    "    for line in infile.readlines():\n",
    "        line = line[:-1]\n",
    "        line = line.split(':')\n",
    "        if line != ['']:\n",
    "            stock[line[0]]=line[1]\n",
    "    infile.close()\n",
    "    return stock\n",
    "\n",
    "def ticker(filename):\n",
    "    coorp = input('Enter Company Name: ')\n",
    "    return constructor(filename)[coorp]\n",
    "\n",
    "ticker('idx.txt')"
   ]
  },
  {
   "cell_type": "code",
   "execution_count": 55,
   "metadata": {},
   "outputs": [
    {
     "data": {
      "text/plain": [
       "'wov'"
      ]
     },
     "execution_count": 55,
     "metadata": {},
     "output_type": "execute_result"
    }
   ],
   "source": [
    "dic = {\n",
    "    'b':'d',\n",
    "    'd':'b',\n",
    "    'i':'i',\n",
    "    'l':'l',\n",
    "    'o':'o',\n",
    "    'p':'q',\n",
    "    'q':'p',\n",
    "    'v':'v',\n",
    "    'w':'w'\n",
    "}\n",
    "def mirror(word):\n",
    "    res = []\n",
    "    for char in word:\n",
    "        if char not in dic:\n",
    "            return 'INVALID'\n",
    "        else:\n",
    "            res.append(dic[char])\n",
    "    res.reverse()\n",
    "    return ''.join(res)\n",
    "\n",
    "mirror('vow')"
   ]
  },
  {
   "cell_type": "code",
   "execution_count": 1,
   "metadata": {},
   "outputs": [
    {
     "name": "stdout",
     "output_type": "stream",
     "text": [
      "Enter next name: Akbar\n",
      "Enter next name: Akbar\n",
      "Enter next name: Akbar\n",
      "Enter next name: Maulana\n",
      "Enter next name: Ridho\n",
      "Enter next name: Ratih\n",
      "Enter next name: Marda\n",
      "Enter next name: Raihan\n",
      "Enter next name: Jeka\n",
      "Enter next name: \n",
      "There are 3 students names Akbar\n",
      "There is 1 student named Maulana\n",
      "There is 1 student named Ridho\n",
      "There is 1 student named Ratih\n",
      "There is 1 student named Marda\n",
      "There is 1 student named Raihan\n",
      "There is 1 student named Jeka\n"
     ]
    }
   ],
   "source": [
    "def names():\n",
    "    name = input('Enter next name: ')\n",
    "    names = {}\n",
    "    while name != '':\n",
    "        if name not in names:\n",
    "            names[name] = 1\n",
    "        else:\n",
    "            names[name] += 1\n",
    "        name = input('Enter next name: ')\n",
    "    for item in names:\n",
    "        if names[item] == 1:\n",
    "            string = 'There is {} student named {}'\n",
    "            print(string.format(names[item], item))\n",
    "        else:\n",
    "            string = 'There are {} students names {}'\n",
    "            print(string.format(names[item], item))\n",
    "names()"
   ]
  },
  {
   "cell_type": "code",
   "execution_count": 3,
   "metadata": {},
   "outputs": [
    {
     "data": {
      "text/plain": [
       "9"
      ]
     },
     "execution_count": 3,
     "metadata": {},
     "output_type": "execute_result"
    }
   ],
   "source": [
    "table = [[1,0,1],[0,1,0],[1,2,3,4,5,6,71,12312]]\n",
    "def different(table):\n",
    "    res = set()\n",
    "    for row in table:\n",
    "        for col in row:\n",
    "            res.add(col)\n",
    "    return len(res)\n",
    "different(table)"
   ]
  },
  {
   "cell_type": "code",
   "execution_count": 4,
   "metadata": {},
   "outputs": [
    {
     "name": "stdout",
     "output_type": "stream",
     "text": [
      "Enter day abbreviation: Mo\n",
      "Monday\n",
      "Enter day abbreviation: Tu\n",
      "Tuesday\n",
      "Enter day abbreviation: We\n",
      "Wednesday\n",
      "Enter day abbreviation: Th\n",
      "Thursday\n",
      "Enter day abbreviation: Fr\n",
      "Friday\n",
      "Enter day abbreviation: Sa\n",
      "Saturday\n",
      "Enter day abbreviation: Su\n",
      "Sunday\n",
      "Enter day abbreviation: \n"
     ]
    }
   ],
   "source": [
    "def week():\n",
    "    day = input('Enter day abbreviation: ')\n",
    "    dic = {'Mo':'Monday',\n",
    "          'Tu':'Tuesday',\n",
    "          'We':'Wednesday',\n",
    "          'Th':'Thursday',\n",
    "          'Fr':'Friday',\n",
    "          'Sa':'Saturday',\n",
    "          'Su':'Sunday'}\n",
    "    while day != '':\n",
    "        print(dic[day])\n",
    "        day = input('Enter day abbreviation: ')\n",
    "week()"
   ]
  },
  {
   "cell_type": "code",
   "execution_count": 13,
   "metadata": {},
   "outputs": [
    {
     "name": "stdout",
     "output_type": "stream",
     "text": [
      "Social network 0 is {0, 1, 2}\n",
      "Social network 1 is {0, 1, 2}\n",
      "Social network 2 is {0, 1, 2}\n",
      "Social network 3 is {3, 4}\n",
      "Social network 4 is {3, 4}\n"
     ]
    }
   ],
   "source": [
    "n = 5\n",
    "l = [(0,1),(1,2),(3,4)]\n",
    "def networks(n, l):\n",
    "    for i in range(n):\n",
    "        j = 0\n",
    "        relation = set()\n",
    "        while j<2:\n",
    "            relation.add(i)\n",
    "            for pair in l:\n",
    "                for each in pair:\n",
    "                    if each in relation:\n",
    "                        relation.add(pair[0])\n",
    "                        relation.add(pair[1])\n",
    "            j += 1\n",
    "        string = 'Social network {} is {}'\n",
    "        print(string.format(i, relation))\n",
    "networks(n,l)"
   ]
  },
  {
   "cell_type": "code",
   "execution_count": 15,
   "metadata": {},
   "outputs": [
    {
     "name": "stdout",
     "output_type": "stream",
     "text": [
      "Player 1\n"
     ]
    }
   ],
   "source": [
    "import random\n",
    "def simul(n):\n",
    "    r = 'R'\n",
    "    s = 'S'\n",
    "    p = 'P'\n",
    "    var = (r,s,p)\n",
    "    win = ((r,s), (s,p), (p,r))\n",
    "    tie = ((r,r), (s,s), (p,p))\n",
    "    lose = ((s,r), (p,s), (r,p))\n",
    "    \n",
    "    score = 0\n",
    "    for i in range(n):\n",
    "        p1 = random.choice(var)\n",
    "        p2 = random.choice(var)\n",
    "        pair = (p1,p2)\n",
    "        if pair in win:\n",
    "            score += 1\n",
    "        elif pair in tie:\n",
    "            pass\n",
    "        elif pair in lose:\n",
    "            score -= 1\n",
    "    if score>1:\n",
    "        print('Player 1')\n",
    "    elif score == 0:\n",
    "        print('Tie')\n",
    "    else:\n",
    "        print('Player 2')\n",
    "simul(100)"
   ]
  },
  {
   "cell_type": "code",
   "execution_count": 182,
   "metadata": {},
   "outputs": [
    {
     "name": "stdout",
     "output_type": "stream",
     "text": [
      "3\n"
     ]
    },
    {
     "data": {
      "text/plain": [
       "0"
      ]
     },
     "execution_count": 182,
     "metadata": {},
     "output_type": "execute_result"
    }
   ],
   "source": [
    "import random\n",
    "def Carps():\n",
    "    dice = (1,2,3,4,5,6)\n",
    "    win = (7,11)\n",
    "    lose = (2,3,12)\n",
    "    while True:\n",
    "        dice1 = random.choice(dice)\n",
    "        dice2 = random.choice(dice)\n",
    "        if dice1+dice2 in win:\n",
    "            print(dice1+dice2)\n",
    "            return 1\n",
    "        elif dice1+dice2 in lose:\n",
    "            print(dice1+dice2)\n",
    "            return 0\n",
    "Carps()"
   ]
  },
  {
   "cell_type": "code",
   "execution_count": 271,
   "metadata": {},
   "outputs": [
    {
     "data": {
      "text/plain": [
       "0.6648"
      ]
     },
     "execution_count": 271,
     "metadata": {},
     "output_type": "execute_result"
    }
   ],
   "source": [
    "import random\n",
    "def Carps():\n",
    "    dice = [1,2,3,4,5,6]\n",
    "    win = [7,11]\n",
    "    lose = [2,3,12]\n",
    "    while True:\n",
    "        dice1 = random.choice(dice)\n",
    "        dice2 = random.choice(dice)\n",
    "        if dice1+dice2 in win:\n",
    "            return 1\n",
    "        elif dice1+dice2 in lose:\n",
    "            return 0\n",
    "        else:\n",
    "            pass\n",
    "\n",
    "def testCraps(n):\n",
    "    j = 0\n",
    "    for i in range(n):\n",
    "        j += Carps()\n",
    "    return j/n\n",
    "\n",
    "testCraps(10000)"
   ]
  },
  {
   "cell_type": "code",
   "execution_count": 277,
   "metadata": {},
   "outputs": [
    {
     "name": "stdout",
     "output_type": "stream",
     "text": [
      "It took 3215 rolls to get 100 rolls of 2\n"
     ]
    }
   ],
   "source": [
    "import random\n",
    "def diceprob(n):\n",
    "    dice = (1,2,3,4,5,6)\n",
    "    counter_target = 0\n",
    "    counter = 0\n",
    "    while counter_target < 100:\n",
    "        dice1 = random.choice(dice)\n",
    "        dice2 = random.choice(dice)\n",
    "        if dice1+dice2 == n:\n",
    "            counter_target += 1\n",
    "        counter += 1\n",
    "    string = 'It took {} rolls to get 100 rolls of {}'\n",
    "    print(string.format(counter, n))\n",
    "diceprob(2)"
   ]
  },
  {
   "cell_type": "code",
   "execution_count": 282,
   "metadata": {},
   "outputs": [
    {
     "name": "stdout",
     "output_type": "stream",
     "text": [
      "0 + 3\n",
      "Enter answer: 3\n",
      "correct!\n",
      "6 + 8\n",
      "Enter answer: 14\n",
      "correct!\n",
      "6 + 9\n",
      "Enter answer: 13\n",
      "incorrect!\n",
      "9 + 3\n",
      "Enter answer: 12\n",
      "correct!\n",
      "6 + 7\n",
      "Enter answer: 11\n",
      "incorrect!\n",
      "You got 3 correct answers out of 5\n"
     ]
    }
   ],
   "source": [
    "import random\n",
    "def game(n):\n",
    "    num = (0,1,2,3,4,5,6,7,8,9)\n",
    "    correct = 0\n",
    "    for i in range(n):\n",
    "        first = random.choice(num)\n",
    "        second = random.choice(num)\n",
    "        print(str(first)+' + '+str(second))\n",
    "        ans = int(input('Enter answer: '))\n",
    "        if first + second == ans:\n",
    "            print('correct!')\n",
    "            correct += 1\n",
    "        else:\n",
    "            print('incorrect!')\n",
    "    string = 'You got {} correct answers out of {}'.format(correct,n)\n",
    "    print(string)\n",
    "game(5)"
   ]
  },
  {
   "cell_type": "code",
   "execution_count": 292,
   "metadata": {},
   "outputs": [
    {
     "name": "stdout",
     "output_type": "stream",
     "text": [
      "spul. spul? spul; spul, spul! spul? spul spul spul\n",
      "shpu shpu shpu;\n",
      "shpu hzsrkqhzkq. olol.\n",
      "\n",
      "Aol 3 spulz pu aopz mpsl luk dpao aol uld spul johyhjaly.\n",
      "\n",
      "Aolyl pz h ishur spul hivcl aopz spul.\n",
      "\n"
     ]
    }
   ],
   "source": [
    " def caesar(key, filename):\n",
    "    lower = 'abcdefghijklmnopqrstuvwxyz'\n",
    "    upper = 'ABCDEFGHIJKLMNOPQRSTUVWXYZ'\n",
    "    lowerenc = []\n",
    "    upperenc = []\n",
    "    \n",
    "    for char in lower:\n",
    "        index = lower.index(char)\n",
    "        lowerenc.append(lower[(index+key)%26])\n",
    "    for char in upper:\n",
    "        index = upper.index(char)\n",
    "        upperenc.append(upper[(index+key)%26])    \n",
    "\n",
    "    infile = open(filename, 'r')\n",
    "    content = infile.read()\n",
    "    infile.close()\n",
    "    \n",
    "    table1 = str.maketrans(lower, ''.join(lowerenc))\n",
    "    table2 = str.maketrans(upper, ''.join(upperenc))\n",
    "    \n",
    "    content = content.translate(table1)\n",
    "    content = content.translate(table2)\n",
    "    \n",
    "    print(content)\n",
    "caesar(7, 'example.txt')"
   ]
  },
  {
   "cell_type": "code",
   "execution_count": null,
   "metadata": {},
   "outputs": [],
   "source": []
  }
 ],
 "metadata": {
  "kernelspec": {
   "display_name": "Python 3",
   "language": "python",
   "name": "python3"
  },
  "language_info": {
   "codemirror_mode": {
    "name": "ipython",
    "version": 3
   },
   "file_extension": ".py",
   "mimetype": "text/x-python",
   "name": "python",
   "nbconvert_exporter": "python",
   "pygments_lexer": "ipython3",
   "version": "3.8.3"
  }
 },
 "nbformat": 4,
 "nbformat_minor": 4
}
