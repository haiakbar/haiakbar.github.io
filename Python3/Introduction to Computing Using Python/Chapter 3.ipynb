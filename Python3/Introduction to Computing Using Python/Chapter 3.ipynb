{
 "cells": [
  {
   "cell_type": "code",
   "execution_count": 3,
   "metadata": {},
   "outputs": [
    {
     "name": "stdout",
     "output_type": "stream",
     "text": [
      "Enter the temperature in egrees Fahrenheit: 212\n",
      "The temperature in egree Celcius is 100.0\n"
     ]
    }
   ],
   "source": [
    "f = input('Enter the temperature in egrees Fahrenheit: ')\n",
    "c = 5*(eval(f)-32)/9\n",
    "result = 'The temperature in egree Celcius is ' + str(c)\n",
    "print(result)"
   ]
  },
  {
   "cell_type": "code",
   "execution_count": null,
   "metadata": {},
   "outputs": [],
   "source": []
  },
  {
   "cell_type": "code",
   "execution_count": null,
   "metadata": {},
   "outputs": [],
   "source": []
  },
  {
   "cell_type": "code",
   "execution_count": 7,
   "metadata": {},
   "outputs": [
    {
     "name": "stdout",
     "output_type": "stream",
     "text": [
      "Please enter your age: 62\n"
     ]
    }
   ],
   "source": [
    "age = eval(input('Please enter your age: '))\n",
    "if age > 62:\n",
    "    print('Your can get your pension benefits')\n",
    "    "
   ]
  },
  {
   "cell_type": "markdown",
   "metadata": {},
   "source": []
  },
  {
   "cell_type": "code",
   "execution_count": 9,
   "metadata": {},
   "outputs": [
    {
     "name": "stdout",
     "output_type": "stream",
     "text": [
      "Please enter your name: Ruth\n",
      "One of the top 5 baseball players, ever!\n"
     ]
    }
   ],
   "source": [
    "name = input('Please enter your name: ')\n",
    "list = ['Musial', 'Aaraon', 'Williams', 'Gehrig', 'Ruth']\n",
    "if name in list:\n",
    "    print('One of the top 5 baseball players, ever!')"
   ]
  },
  {
   "cell_type": "code",
   "execution_count": 14,
   "metadata": {},
   "outputs": [
    {
     "name": "stdout",
     "output_type": "stream",
     "text": [
      "Enter hits: 15\n",
      "Enter shield: 0\n",
      "Omae wa mou shindeiru\n"
     ]
    }
   ],
   "source": [
    "hits = input('Enter hits: ')\n",
    "shield = input('Enter shield: ')\n",
    "if eval(hits) > 10 and eval(shield) == 0:\n",
    "    print('Omae wa mou shindeiru')"
   ]
  },
  {
   "cell_type": "code",
   "execution_count": 16,
   "metadata": {},
   "outputs": [
    {
     "name": "stdout",
     "output_type": "stream",
     "text": [
      "You can escape\n"
     ]
    }
   ],
   "source": [
    "north = True\n",
    "south = False\n",
    "west = False\n",
    "east = False\n",
    "if north or south or west or east == True:\n",
    "    print('You can escape')"
   ]
  },
  {
   "cell_type": "code",
   "execution_count": null,
   "metadata": {},
   "outputs": [],
   "source": []
  },
  {
   "cell_type": "code",
   "execution_count": 18,
   "metadata": {},
   "outputs": [
    {
     "name": "stdout",
     "output_type": "stream",
     "text": [
      "Please enter the year: 2019\n",
      "Definitely not a leap year\n"
     ]
    }
   ],
   "source": [
    "year = input('Please enter the year: ')\n",
    "year = eval(year)\n",
    "if year%4 == 0:\n",
    "    print('Could be a leap year')\n",
    "else:\n",
    "    print('Definitely not a leap year')"
   ]
  },
  {
   "cell_type": "code",
   "execution_count": 22,
   "metadata": {},
   "outputs": [
    {
     "name": "stdout",
     "output_type": "stream",
     "text": [
      "You won!\n"
     ]
    }
   ],
   "source": [
    "ticket = ['1602']\n",
    "lottery = ['1602']\n",
    "if ticket == lottery:\n",
    "    print('You won!')\n",
    "else:\n",
    "    print('Better luck next time!')"
   ]
  },
  {
   "cell_type": "code",
   "execution_count": 4,
   "metadata": {},
   "outputs": [
    {
     "name": "stdout",
     "output_type": "stream",
     "text": [
      "Enter user id: JOE\n",
      "You are in\n",
      "Done\n"
     ]
    }
   ],
   "source": [
    "list = ['joe', 'sue', 'hani', 'sophie']\n",
    "user_id = input('Enter user id: ')\n",
    "user_id = user_id.lower()\n",
    "if user_id in list:\n",
    "    print('You are in')\n",
    "else:\n",
    "    print('User not found')\n",
    "print('Done')"
   ]
  },
  {
   "cell_type": "code",
   "execution_count": 6,
   "metadata": {},
   "outputs": [
    {
     "name": "stdout",
     "output_type": "stream",
     "text": [
      "stop\n",
      "desktop\n",
      "top\n",
      "post\n"
     ]
    }
   ],
   "source": [
    "list = ['stop', 'desktop', 'top', 'post']\n",
    "for words in list:\n",
    "    print(words)"
   ]
  },
  {
   "cell_type": "code",
   "execution_count": 7,
   "metadata": {},
   "outputs": [
    {
     "name": "stdout",
     "output_type": "stream",
     "text": [
      "0\n",
      "1\n",
      "2\n",
      "3\n",
      "4\n",
      "5\n",
      "6\n",
      "7\n",
      "8\n",
      "9\n",
      "0\n",
      "1\n"
     ]
    }
   ],
   "source": [
    "for i in range(10):\n",
    "    print(i)\n",
    "for l in range(2):\n",
    "    print(l)"
   ]
  },
  {
   "cell_type": "code",
   "execution_count": 8,
   "metadata": {},
   "outputs": [
    {
     "name": "stdout",
     "output_type": "stream",
     "text": [
      "3\n",
      "4\n",
      "5\n",
      "6\n",
      "7\n",
      "8\n",
      "9\n",
      "10\n",
      "11\n",
      "12\n",
      "0\n",
      "2\n",
      "4\n",
      "6\n",
      "8\n",
      "0\n",
      "3\n",
      "6\n",
      "9\n",
      "12\n",
      "15\n",
      "18\n",
      "21\n",
      "3\n",
      "8\n"
     ]
    }
   ],
   "source": [
    "for i in range(3,13):\n",
    "    print(i)\n",
    "for j in range(0, 9, 2):\n",
    "    print(j)\n",
    "for k in range(0,24,3):\n",
    "    print(k)\n",
    "for l in range(3,12,5):\n",
    "    print(l)"
   ]
  },
  {
   "cell_type": "code",
   "execution_count": 12,
   "metadata": {},
   "outputs": [
    {
     "name": "stdout",
     "output_type": "stream",
     "text": [
      "Please enter circle radius: 2\n",
      "12.566370614359172\n"
     ]
    }
   ],
   "source": [
    "import math\n",
    "r = input('Please enter circle radius: ')\n",
    "r = eval(r)\n",
    "def perimeter(r):\n",
    "    per = 2*math.pi*r\n",
    "    return per\n",
    "calculate = perimeter(r)\n",
    "print(calculate)"
   ]
  },
  {
   "cell_type": "code",
   "execution_count": 14,
   "metadata": {},
   "outputs": [
    {
     "data": {
      "text/plain": [
       "3.5"
      ]
     },
     "execution_count": 14,
     "metadata": {},
     "output_type": "execute_result"
    }
   ],
   "source": [
    "def average(x, y):\n",
    "    avg = (x+y)/2\n",
    "    return avg\n",
    "average(2, 5)"
   ]
  },
  {
   "cell_type": "code",
   "execution_count": 20,
   "metadata": {},
   "outputs": [
    {
     "name": "stdout",
     "output_type": "stream",
     "text": [
      "Please enter the word: Omae mo shindeiru\n",
      "True\n"
     ]
    }
   ],
   "source": [
    "words = input('Please enter the word: ')\n",
    "words = words.lower()\n",
    "def noVowel():\n",
    "    vowel = ['a', 'i', 'u', 'e', 'o']\n",
    "    value = []\n",
    "    for each in vowel:\n",
    "        bool_value = each in words\n",
    "        value.append(bool_value)\n",
    "    if sum(value) >= 1:\n",
    "        value = True\n",
    "        print(value)\n",
    "    else:\n",
    "        value = False\n",
    "        print(value)\n",
    "noVowel()"
   ]
  },
  {
   "cell_type": "code",
   "execution_count": 27,
   "metadata": {},
   "outputs": [
    {
     "name": "stdout",
     "output_type": "stream",
     "text": [
      "Please enter list number: 5\n",
      "Please enter element value: a\n"
     ]
    },
    {
     "ename": "NameError",
     "evalue": "name 'a' is not defined",
     "output_type": "error",
     "traceback": [
      "\u001b[0;31m---------------------------------------------------------------------------\u001b[0m",
      "\u001b[0;31mNameError\u001b[0m                                 Traceback (most recent call last)",
      "\u001b[0;32m<ipython-input-27-9ca12773389d>\u001b[0m in \u001b[0;36m<module>\u001b[0;34m\u001b[0m\n\u001b[1;32m      4\u001b[0m \u001b[0;32mfor\u001b[0m \u001b[0mi\u001b[0m \u001b[0;32min\u001b[0m \u001b[0mrange\u001b[0m\u001b[0;34m(\u001b[0m\u001b[0mnum_count\u001b[0m\u001b[0;34m)\u001b[0m\u001b[0;34m:\u001b[0m\u001b[0;34m\u001b[0m\u001b[0;34m\u001b[0m\u001b[0m\n\u001b[1;32m      5\u001b[0m     \u001b[0mvalue\u001b[0m \u001b[0;34m=\u001b[0m \u001b[0minput\u001b[0m\u001b[0;34m(\u001b[0m\u001b[0;34m'Please enter element value: '\u001b[0m\u001b[0;34m)\u001b[0m\u001b[0;34m\u001b[0m\u001b[0;34m\u001b[0m\u001b[0m\n\u001b[0;32m----> 6\u001b[0;31m     \u001b[0mclean\u001b[0m \u001b[0;34m=\u001b[0m \u001b[0meval\u001b[0m\u001b[0;34m(\u001b[0m\u001b[0mvalue\u001b[0m\u001b[0;34m)\u001b[0m\u001b[0;34m\u001b[0m\u001b[0;34m\u001b[0m\u001b[0m\n\u001b[0m\u001b[1;32m      7\u001b[0m     \u001b[0;32mif\u001b[0m \u001b[0mtype\u001b[0m\u001b[0;34m(\u001b[0m\u001b[0mtest\u001b[0m\u001b[0;34m)\u001b[0m \u001b[0;34m==\u001b[0m \u001b[0;34m(\u001b[0m\u001b[0mstr\u001b[0m \u001b[0;32mor\u001b[0m \u001b[0mfloat\u001b[0m\u001b[0;34m)\u001b[0m\u001b[0;34m:\u001b[0m\u001b[0;34m\u001b[0m\u001b[0;34m\u001b[0m\u001b[0m\n\u001b[1;32m      8\u001b[0m         \u001b[0mprint\u001b[0m\u001b[0;34m(\u001b[0m\u001b[0;34m'Enter integer only!'\u001b[0m\u001b[0;34m)\u001b[0m\u001b[0;34m\u001b[0m\u001b[0;34m\u001b[0m\u001b[0m\n",
      "\u001b[0;32m<string>\u001b[0m in \u001b[0;36m<module>\u001b[0;34m\u001b[0m\n",
      "\u001b[0;31mNameError\u001b[0m: name 'a' is not defined"
     ]
    }
   ],
   "source": [
    "num_count = input('Please enter list number: ')\n",
    "num_count = eval(num_count)\n",
    "numbers = []\n",
    "for i in range(num_count):\n",
    "    value = input('Please enter element value: ')\n",
    "    value = eval(value)\n",
    "    numbers.append(value)\n",
    "def allEven():\n",
    "    for num in numbers:\n",
    "        if num%2 != 0:\n",
    "            return 'False'\n",
    "        else:\n",
    "            return 'True'\n",
    "allEven()"
   ]
  },
  {
   "cell_type": "code",
   "execution_count": 28,
   "metadata": {},
   "outputs": [
    {
     "name": "stdout",
     "output_type": "stream",
     "text": [
      "Please enter list number: 8\n",
      "Please enter element value: 1\n",
      "Please enter element value: 2\n",
      "Please enter element value: 3\n",
      "Please enter element value: -1\n",
      "Please enter element value: -5\n",
      "Please enter element value: -10\n",
      "Please enter element value: -2\n",
      "Please enter element value: 5\n",
      "-1\n",
      "-5\n",
      "-10\n",
      "-2\n"
     ]
    }
   ],
   "source": [
    "num_count = input('Please enter list number: ')\n",
    "num_count = eval(num_count)\n",
    "numbers = []\n",
    "for i in range(num_count):\n",
    "    value = input('Please enter element value: ')\n",
    "    value = eval(value)\n",
    "    numbers.append(value)\n",
    "def negatives():\n",
    "    'print negatives input only'\n",
    "    for num in numbers:\n",
    "        if num < 0:\n",
    "            print(num)\n",
    "negatives()"
   ]
  },
  {
   "cell_type": "code",
   "execution_count": 31,
   "metadata": {},
   "outputs": [
    {
     "name": "stdout",
     "output_type": "stream",
     "text": [
      "Help on function negatives in module __main__:\n",
      "\n",
      "negatives()\n",
      "    print negatives input only\n",
      "\n"
     ]
    }
   ],
   "source": [
    "def negatives():\n",
    "    'print negatives input only'\n",
    "    for num in numbers:\n",
    "        if num < 0:\n",
    "            print(num)\n",
    "help(negatives)"
   ]
  },
  {
   "cell_type": "code",
   "execution_count": 3,
   "metadata": {},
   "outputs": [
    {
     "name": "stdout",
     "output_type": "stream",
     "text": [
      "['Ava', 'Eleanor', 'Clare', 'Sarah']\n",
      "['Sarah', 'Eleanor', 'Clare', 'Ava']\n"
     ]
    }
   ],
   "source": [
    "team = ['Ava', 'Eleanor', 'Clare', 'Sarah']\n",
    "print(team)\n",
    "team[0], team[-1] = team[-1], team[0]\n",
    "print(team)"
   ]
  },
  {
   "cell_type": "code",
   "execution_count": 5,
   "metadata": {},
   "outputs": [
    {
     "data": {
      "text/plain": [
       "['apples', 'sugar', 'butter', 'flour']"
      ]
     },
     "execution_count": 5,
     "metadata": {},
     "output_type": "execute_result"
    }
   ],
   "source": [
    "ingredients = ['flour', 'sugar', 'butter', 'apples']\n",
    "def SwapFL(x):\n",
    "    x[0], x[-1] = x[-1], x[0]\n",
    "    return x\n",
    "SwapFL(ingredients)"
   ]
  },
  {
   "cell_type": "code",
   "execution_count": 9,
   "metadata": {},
   "outputs": [
    {
     "data": {
      "text/plain": [
       "'Hello world!'"
      ]
     },
     "execution_count": 9,
     "metadata": {},
     "output_type": "execute_result"
    }
   ],
   "source": [
    "eval(\"'Hello'+' '+'world!'\")"
   ]
  },
  {
   "cell_type": "code",
   "execution_count": 10,
   "metadata": {},
   "outputs": [
    {
     "data": {
      "text/plain": [
       "'hello'"
      ]
     },
     "execution_count": 10,
     "metadata": {},
     "output_type": "execute_result"
    }
   ],
   "source": [
    "eval(\"'hello'\")"
   ]
  },
  {
   "cell_type": "code",
   "execution_count": 11,
   "metadata": {},
   "outputs": [
    {
     "data": {
      "text/plain": [
       "2"
      ]
     },
     "execution_count": 11,
     "metadata": {},
     "output_type": "execute_result"
    }
   ],
   "source": [
    "eval(\"'ASCII'.count('I')\")"
   ]
  },
  {
   "cell_type": "code",
   "execution_count": 12,
   "metadata": {},
   "outputs": [
    {
     "ename": "SyntaxError",
     "evalue": "invalid syntax (<string>, line 1)",
     "output_type": "error",
     "traceback": [
      "Traceback \u001b[0;36m(most recent call last)\u001b[0m:\n",
      "  File \u001b[1;32m\"/home/barcode/anaconda3/lib/python3.8/site-packages/IPython/core/interactiveshell.py\"\u001b[0m, line \u001b[1;32m3343\u001b[0m, in \u001b[1;35mrun_code\u001b[0m\n    exec(code_obj, self.user_global_ns, self.user_ns)\n",
      "\u001b[0;36m  File \u001b[0;32m\"<ipython-input-12-125aa5e4d801>\"\u001b[0;36m, line \u001b[0;32m1\u001b[0;36m, in \u001b[0;35m<module>\u001b[0;36m\u001b[0m\n\u001b[0;31m    eval('x=5')\u001b[0m\n",
      "\u001b[0;36m  File \u001b[0;32m\"<string>\"\u001b[0;36m, line \u001b[0;32m1\u001b[0m\n\u001b[0;31m    x=5\u001b[0m\n\u001b[0m     ^\u001b[0m\n\u001b[0;31mSyntaxError\u001b[0m\u001b[0;31m:\u001b[0m invalid syntax\n"
     ]
    }
   ],
   "source": [
    "eval('x=5')"
   ]
  },
  {
   "cell_type": "code",
   "execution_count": 15,
   "metadata": {},
   "outputs": [
    {
     "name": "stdout",
     "output_type": "stream",
     "text": [
      "OK\n",
      "NOT OK\n",
      "NOT OK\n",
      "OK\n"
     ]
    }
   ],
   "source": [
    "a, b, c = 3, 4, 5\n",
    "if a<b:\n",
    "    print('OK')\n",
    "else:\n",
    "    print('NOT OK')\n",
    "if c<b:\n",
    "    print('OK')\n",
    "else:\n",
    "    print('NOT OK')\n",
    "if a+b==c:\n",
    "    print('OK')\n",
    "else:\n",
    "    print('NOT OK')\n",
    "if a**2+b**2==c**2:\n",
    "    print('OK')"
   ]
  },
  {
   "cell_type": "code",
   "execution_count": null,
   "metadata": {},
   "outputs": [],
   "source": []
  },
  {
   "cell_type": "code",
   "execution_count": 16,
   "metadata": {},
   "outputs": [
    {
     "name": "stdout",
     "output_type": "stream",
     "text": [
      "January\n",
      "February\n",
      "March\n"
     ]
    }
   ],
   "source": [
    "list = ['January', 'February', 'March']\n",
    "for month in list:\n",
    "    print(month)"
   ]
  },
  {
   "cell_type": "code",
   "execution_count": 20,
   "metadata": {},
   "outputs": [
    {
     "name": "stdout",
     "output_type": "stream",
     "text": [
      "2\n",
      "4\n",
      "6\n",
      "8\n"
     ]
    }
   ],
   "source": [
    "lst = [2, 3, 4, 5, 6, 7, 8, 9]\n",
    "for i in range(0,len(lst)):\n",
    "    if (lst[i]%2)==0:\n",
    "        print(lst[i])"
   ]
  },
  {
   "cell_type": "code",
   "execution_count": 21,
   "metadata": {},
   "outputs": [
    {
     "name": "stdout",
     "output_type": "stream",
     "text": [
      "4\n",
      "8\n"
     ]
    }
   ],
   "source": [
    "lst = [2, 3, 4, 5, 6, 7, 8, 9]\n",
    "for i in range(0,len(lst)):\n",
    "    if (lst[i]**2)%8==0:\n",
    "        print(lst[i])"
   ]
  },
  {
   "cell_type": "code",
   "execution_count": 23,
   "metadata": {},
   "outputs": [
    {
     "name": "stdout",
     "output_type": "stream",
     "text": [
      "0\n",
      "1\n",
      "0\n",
      "3\n",
      "4\n",
      "5\n",
      "6\n",
      "1\n",
      "0\n",
      "3\n",
      "1\n",
      "5\n",
      "9\n",
      "13\n",
      "17\n",
      "21\n"
     ]
    }
   ],
   "source": [
    "for i in range(0,2):\n",
    "    print(i)\n",
    "for i in range(0,1):\n",
    "    print(i)\n",
    "for i in range(3,7):\n",
    "    print(i)\n",
    "for i in range(1,2):\n",
    "    print(i)\n",
    "for i in range(0,5,3):\n",
    "    print(i)\n",
    "for i in range(0,21,4):\n",
    "    print(i+1)"
   ]
  },
  {
   "cell_type": "code",
   "execution_count": 2,
   "metadata": {},
   "outputs": [
    {
     "name": "stdout",
     "output_type": "stream",
     "text": [
      "cia\n",
      "mi6\n",
      "isi\n"
     ]
    }
   ],
   "source": [
    "words = ['cia', 'secret', 'mi6', 'isi', 'secret']\n",
    "for word in words:\n",
    "    if word != 'secret':\n",
    "        print(word)"
   ]
  },
  {
   "cell_type": "code",
   "execution_count": 6,
   "metadata": {},
   "outputs": [
    {
     "name": "stdout",
     "output_type": "stream",
     "text": [
      "Ellie\n",
      "Gavin\n"
     ]
    }
   ],
   "source": [
    "names = ['Ellie', 'Seve', 'Sam', 'Owen', 'Gavin']\n",
    "for name in names:\n",
    "    if name[0] not in 'NOPQRSTUVWXYZ':\n",
    "        print(name)"
   ]
  },
  {
   "cell_type": "code",
   "execution_count": 8,
   "metadata": {},
   "outputs": [
    {
     "name": "stdout",
     "output_type": "stream",
     "text": [
      "Enter n: 5\n",
      "0\n",
      "5\n",
      "10\n",
      "15\n"
     ]
    }
   ],
   "source": [
    "n = input('Enter n: ')\n",
    "for i in range(0,4):\n",
    "    print(eval(n)*i)"
   ]
  },
  {
   "cell_type": "code",
   "execution_count": 13,
   "metadata": {},
   "outputs": [
    {
     "name": "stdout",
     "output_type": "stream",
     "text": [
      "Enter n: 4\n",
      "0\n",
      "1\n",
      "4\n",
      "9\n"
     ]
    }
   ],
   "source": [
    "n = input('Enter n: ')\n",
    "for i in range(0,eval(n)):\n",
    "    print(i**2)"
   ]
  },
  {
   "cell_type": "code",
   "execution_count": 20,
   "metadata": {},
   "outputs": [
    {
     "name": "stdout",
     "output_type": "stream",
     "text": [
      "Enter number of n: 49\n",
      "1\n",
      "7\n",
      "49\n"
     ]
    }
   ],
   "source": [
    "n = eval(input('Enter number of n: '))\n",
    "for i in range(1,n+1):\n",
    "    if n%i == 0:\n",
    "        print(i)"
   ]
  },
  {
   "cell_type": "code",
   "execution_count": 21,
   "metadata": {},
   "outputs": [
    {
     "name": "stdout",
     "output_type": "stream",
     "text": [
      "Enter first number: 4.5\n",
      "Enter second number: 3\n",
      "Enter third number: 3\n",
      "Enter fourth number: 3.5\n",
      "equal\n"
     ]
    }
   ],
   "source": [
    "a = eval(input('Enter first number: '))\n",
    "b = eval(input('Enter second number: '))\n",
    "c = eval(input('Enter third number: '))\n",
    "d = eval(input('Enter fourth number: '))\n",
    "average_first_three_number = (a+b+c)/3\n",
    "if average_first_three_number == d:\n",
    "    print('equal')"
   ]
  },
  {
   "cell_type": "code",
   "execution_count": 24,
   "metadata": {},
   "outputs": [
    {
     "name": "stdout",
     "output_type": "stream",
     "text": [
      "Enter x coordinate: 2.5\n",
      "Enter y coordinate: 4\n",
      "It is in!\n"
     ]
    }
   ],
   "source": [
    "x = eval(input('Enter x coordinate: '))\n",
    "y = eval(input('Enter y coordinate: '))\n",
    "r = 8\n",
    "r_squared_dartboard = r**2\n",
    "dart_value = x**2 + y**2\n",
    "if dart_value <= r_squared_dartboard:\n",
    "    print('It is in!')"
   ]
  },
  {
   "cell_type": "code",
   "execution_count": 27,
   "metadata": {},
   "outputs": [
    {
     "name": "stdout",
     "output_type": "stream",
     "text": [
      "Enter n: 5123\n",
      "5\n",
      "1\n",
      "2\n",
      "3\n"
     ]
    }
   ],
   "source": [
    "import math\n",
    "n = input('Enter n: ')\n",
    "if len(n) != 4:\n",
    "    print('Please enter four digit number!')\n",
    "else:\n",
    "    n = eval(n)\n",
    "    a = math.floor(n//1000)\n",
    "    print(a)\n",
    "    n = n - 1000*a\n",
    "    b = math.floor(n//100)\n",
    "    print(b)\n",
    "    n = n - 100*b\n",
    "    c = math.floor(n//10)\n",
    "    print(c)\n",
    "    n = n -10*c\n",
    "    print(n)"
   ]
  },
  {
   "cell_type": "code",
   "execution_count": 32,
   "metadata": {},
   "outputs": [
    {
     "name": "stdout",
     "output_type": "stream",
     "text": [
      "Please enter three letter word: Hey\n",
      "yeH\n"
     ]
    }
   ],
   "source": [
    "words = input('Please enter three letter word: ')\n",
    "def reverse_string(word):\n",
    "    reversed_word = word[-1]+word[1]+word[0]\n",
    "    print(reversed_word)\n",
    "if len(words)!=3:\n",
    "    print('Please enter three letter word!')\n",
    "else:\n",
    "    reverse_string(words)"
   ]
  },
  {
   "cell_type": "code",
   "execution_count": 35,
   "metadata": {},
   "outputs": [
    {
     "name": "stdout",
     "output_type": "stream",
     "text": [
      "The wage is 350\n",
      "Overworkerd!\n",
      "The wage is 675.0\n"
     ]
    }
   ],
   "source": [
    "def pay(hourly_wage, hours_work):\n",
    "    base_wage = hourly_wage*hours_work\n",
    "    overworked_wage = 1.5*base_wage\n",
    "    if hours_work > 40:\n",
    "        print('Overworkerd!')\n",
    "        print('The wage is '+str(overworked_wage))\n",
    "    else:\n",
    "        print('The wage is '+str(base_wage))\n",
    "pay(10,35)\n",
    "pay(10,45)"
   ]
  },
  {
   "cell_type": "code",
   "execution_count": 38,
   "metadata": {},
   "outputs": [
    {
     "name": "stdout",
     "output_type": "stream",
     "text": [
      "Please enter number of toss: 5\n",
      "0.03125\n"
     ]
    }
   ],
   "source": [
    "n = eval(input('Please enter number of toss: '))\n",
    "def prob(n):\n",
    "    result = 2**(-n)\n",
    "    print(result)\n",
    "prob(n)"
   ]
  },
  {
   "cell_type": "code",
   "execution_count": 40,
   "metadata": {},
   "outputs": [
    {
     "name": "stdout",
     "output_type": "stream",
     "text": [
      "Please enter three digit integer: 512\n",
      "215\n"
     ]
    }
   ],
   "source": [
    "import math\n",
    "n = eval(input('Please enter three digit integer: '))\n",
    "def reverse_int(n):\n",
    "    if n%10 == 0:\n",
    "        print('Last digit cannot be zero!')\n",
    "    else:\n",
    "        a = math.floor(n//100)\n",
    "        n = n - 100*a\n",
    "        b = math.floor(n//10)\n",
    "        n = n - 10*b\n",
    "        c = n\n",
    "        reversed_int = 100*c + 10*b + a\n",
    "        print(reversed_int)\n",
    "reverse_int(n)"
   ]
  },
  {
   "cell_type": "code",
   "execution_count": 3,
   "metadata": {},
   "outputs": [
    {
     "name": "stdout",
     "output_type": "stream",
     "text": [
      "The slope is 1.0 and the distance is 1.4142135623730951\n",
      "The slope is infinity and the distance is 1\n"
     ]
    }
   ],
   "source": [
    "import math\n",
    "\n",
    "def points(x_1, y_1, x_2, y_2):\n",
    "    vert_dist = y_2 - y_1\n",
    "    horz_dist = x_2 - x_1\n",
    "    if horz_dist == 0:\n",
    "        slope = 'infinity'\n",
    "        distance = vert_dist\n",
    "        print('The slope is '+ str(slope) + ' and the distance is '+str(distance))\n",
    "    else:\n",
    "        slope = vert_dist/horz_dist\n",
    "        distance = math.sqrt(vert_dist**2+horz_dist**2)\n",
    "        print('The slope is '+ str(slope) + ' and the distance is '+str(distance))\n",
    "\n",
    "points(0,0,1,1)\n",
    "points(0,0,0,1)"
   ]
  },
  {
   "cell_type": "code",
   "execution_count": 7,
   "metadata": {},
   "outputs": [
    {
     "name": "stdout",
     "output_type": "stream",
     "text": [
      "Please enter the name of day: Tuesday\n",
      "Tu\n"
     ]
    }
   ],
   "source": [
    "day = input('Please enter the name of day: ')\n",
    "def abbreviation(day):\n",
    "    abrv = day[0]+day[1]\n",
    "    print(abrv)\n",
    "abbreviation(day)"
   ]
  },
  {
   "cell_type": "code",
   "execution_count": 11,
   "metadata": {},
   "outputs": [
    {
     "data": {
      "text/plain": [
       "True"
      ]
     },
     "execution_count": 11,
     "metadata": {},
     "output_type": "execute_result"
    }
   ],
   "source": [
    "import math\n",
    "def collision(x_1, y_1, r_1, x_2, y_2, r_2):\n",
    "    vert_dist = y_2 - y_1\n",
    "    horz_dist = x_2 - x_1\n",
    "    dist = math.sqrt(vert_dist**2+horz_dist**2)\n",
    "    if dist < r_1 + r_2:\n",
    "        return True\n",
    "    else:\n",
    "        return False\n",
    "collision(0,0,3,0,5,3)"
   ]
  },
  {
   "cell_type": "code",
   "execution_count": 13,
   "metadata": {},
   "outputs": [
    {
     "name": "stdout",
     "output_type": "stream",
     "text": [
      "['Eleanor', 'Evelyn', 'Gavin']\n"
     ]
    }
   ],
   "source": [
    "lst = ['Eleanor', 'Evelyn', 'Sammy', 'Owen', 'Gavin']\n",
    "def partition(lst):\n",
    "    selector = 'NOPQRSTUVWXYZ'\n",
    "    new_lst = []\n",
    "    for name in lst:\n",
    "        if name[0] not in selector:\n",
    "            new_lst.append(name)\n",
    "    print(new_lst)\n",
    "partition(lst)"
   ]
  },
  {
   "cell_type": "code",
   "execution_count": 17,
   "metadata": {},
   "outputs": [
    {
     "name": "stdout",
     "output_type": "stream",
     "text": [
      "Plase enter your fist name: Albert\n",
      "Please enter your last name: Camus\n"
     ]
    },
    {
     "data": {
      "text/plain": [
       "'Camus A.'"
      ]
     },
     "execution_count": 17,
     "metadata": {},
     "output_type": "execute_result"
    }
   ],
   "source": [
    "FirstName = input('Plase enter your fist name: ')\n",
    "LastName = input('Please enter your last name: ')\n",
    "def lastF(FirstName, LastName):\n",
    "    new_form = LastName + ' ' + FirstName[0] +'.'\n",
    "    return new_form\n",
    "lastF(FirstName, LastName)"
   ]
  },
  {
   "cell_type": "code",
   "execution_count": 19,
   "metadata": {},
   "outputs": [
    {
     "name": "stdout",
     "output_type": "stream",
     "text": [
      "90.0\n",
      "60.0\n",
      "87.0\n",
      "11.0\n"
     ]
    }
   ],
   "source": [
    "lst = [[95,92,86,87], [66,54], [89,72,100], [33,0,0]]\n",
    "def avg(lst):\n",
    "    for each in lst:\n",
    "        avg = sum(each)/len(each)\n",
    "        print(avg)\n",
    "avg(lst)"
   ]
  },
  {
   "cell_type": "code",
   "execution_count": 21,
   "metadata": {},
   "outputs": [
    {
     "data": {
      "text/plain": [
       "False"
      ]
     },
     "execution_count": 21,
     "metadata": {},
     "output_type": "execute_result"
    }
   ],
   "source": [
    "import math\n",
    "def hit(x_1, y_1, r_1, x_2, y_2):\n",
    "    vert_dist = y_2 - y_1\n",
    "    horz_dist = x_2 - x_1\n",
    "    dist = math.sqrt(vert_dist**2+horz_dist**2)\n",
    "    if dist <= r_1:\n",
    "        return True\n",
    "    else:\n",
    "        return False\n",
    "hit(0,0,3,3,0)\n",
    "hit(0,0,3,4,0)"
   ]
  },
  {
   "cell_type": "code",
   "execution_count": 24,
   "metadata": {},
   "outputs": [
    {
     "name": "stdout",
     "output_type": "stream",
     "text": [
      "Please enter time elapsed: 3\n",
      "1.0208700000000002\n"
     ]
    }
   ],
   "source": [
    "time = eval(input('Please enter time elapsed: '))\n",
    "def distance(time):\n",
    "    speed = 340.29\n",
    "    dist = speed*time/1000\n",
    "    print(dist)\n",
    "distance(time)"
   ]
  }
 ],
 "metadata": {
  "kernelspec": {
   "display_name": "Python 3",
   "language": "python",
   "name": "python3"
  },
  "language_info": {
   "codemirror_mode": {
    "name": "ipython",
    "version": 3
   },
   "file_extension": ".py",
   "mimetype": "text/x-python",
   "name": "python",
   "nbconvert_exporter": "python",
   "pygments_lexer": "ipython3",
   "version": "3.8.3"
  }
 },
 "nbformat": 4,
 "nbformat_minor": 4
}
